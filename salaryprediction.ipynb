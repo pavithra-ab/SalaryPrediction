{
 "cells": [
  {
   "cell_type": "markdown",
   "metadata": {},
   "source": [
    "# Salary Prediction System"
   ]
  },
  {
   "cell_type": "markdown",
   "metadata": {},
   "source": [
    "#### **Aim**\n",
    "\n",
    "The project aims to build a Machine Learning model to predict the Annual Salary of Software Developers based on features like Country, Age, Education level, Years of Experience etc.. and build a web application for the same using Streamlit."
   ]
  },
  {
   "cell_type": "markdown",
   "metadata": {},
   "source": [
    "#### **About the dataset**\n",
    "\n",
    "The data set used is the complete, cleaned results of the 2023 Stack Overflow Developer Survey conducted from May 8, 2023 to May 19, 2023.\n"
   ]
  },
  {
   "cell_type": "markdown",
   "metadata": {},
   "source": [
    "#### **Import the Libraries**"
   ]
  },
  {
   "cell_type": "code",
   "execution_count": 39,
   "metadata": {
    "_cell_guid": "b1076dfc-b9ad-4769-8c92-a6c4dae69d19",
    "_uuid": "8f2839f25d086af736a60e9eeb907d3b93b6e0e5",
    "execution": {
     "iopub.execute_input": "2023-07-25T16:38:31.061504Z",
     "iopub.status.busy": "2023-07-25T16:38:31.061162Z",
     "iopub.status.idle": "2023-07-25T16:38:31.070532Z",
     "shell.execute_reply": "2023-07-25T16:38:31.069834Z",
     "shell.execute_reply.started": "2023-07-25T16:38:31.061478Z"
    }
   },
   "outputs": [
    {
     "name": "stdout",
     "output_type": "stream",
     "text": [
      "/kaggle/input/stack-overflow-2023-developers-survey/survey_results_schema.csv\n",
      "/kaggle/input/stack-overflow-2023-developers-survey/so_survey_2023.pdf\n",
      "/kaggle/input/stack-overflow-2023-developers-survey/survey_results_public.csv\n",
      "/kaggle/input/stack-overflow-2023-developers-survey/README_2023.txt\n"
     ]
    }
   ],
   "source": [
    "\n",
    "import os\n",
    "for dirname, _, filenames in os.walk('/kaggle/input'):\n",
    "    for filename in filenames:\n",
    "        print(os.path.join(dirname, filename))"
   ]
  },
  {
   "cell_type": "code",
   "execution_count": 40,
   "metadata": {
    "execution": {
     "iopub.execute_input": "2023-07-25T16:38:31.090398Z",
     "iopub.status.busy": "2023-07-25T16:38:31.090074Z",
     "iopub.status.idle": "2023-07-25T16:38:31.095005Z",
     "shell.execute_reply": "2023-07-25T16:38:31.093732Z",
     "shell.execute_reply.started": "2023-07-25T16:38:31.090359Z"
    }
   },
   "outputs": [],
   "source": [
    "import numpy as np\n",
    "import pandas as pd\n",
    "import matplotlib.pyplot as plt\n",
    "\n",
    "import warnings\n",
    "warnings.filterwarnings('ignore')"
   ]
  },
  {
   "cell_type": "markdown",
   "metadata": {},
   "source": [
    "#### **Load the Dataset**"
   ]
  },
  {
   "cell_type": "code",
   "execution_count": 41,
   "metadata": {
    "execution": {
     "iopub.execute_input": "2023-07-25T16:38:31.097085Z",
     "iopub.status.busy": "2023-07-25T16:38:31.096240Z",
     "iopub.status.idle": "2023-07-25T16:38:32.981276Z",
     "shell.execute_reply": "2023-07-25T16:38:32.980029Z",
     "shell.execute_reply.started": "2023-07-25T16:38:31.097058Z"
    }
   },
   "outputs": [
    {
     "data": {
      "text/html": [
       "<div>\n",
       "<style scoped>\n",
       "    .dataframe tbody tr th:only-of-type {\n",
       "        vertical-align: middle;\n",
       "    }\n",
       "\n",
       "    .dataframe tbody tr th {\n",
       "        vertical-align: top;\n",
       "    }\n",
       "\n",
       "    .dataframe thead th {\n",
       "        text-align: right;\n",
       "    }\n",
       "</style>\n",
       "<table border=\"1\" class=\"dataframe\">\n",
       "  <thead>\n",
       "    <tr style=\"text-align: right;\">\n",
       "      <th></th>\n",
       "      <th>ResponseId</th>\n",
       "      <th>Q120</th>\n",
       "      <th>MainBranch</th>\n",
       "      <th>Age</th>\n",
       "      <th>Employment</th>\n",
       "      <th>RemoteWork</th>\n",
       "      <th>CodingActivities</th>\n",
       "      <th>EdLevel</th>\n",
       "      <th>LearnCode</th>\n",
       "      <th>LearnCodeOnline</th>\n",
       "      <th>...</th>\n",
       "      <th>Frequency_1</th>\n",
       "      <th>Frequency_2</th>\n",
       "      <th>Frequency_3</th>\n",
       "      <th>TimeSearching</th>\n",
       "      <th>TimeAnswering</th>\n",
       "      <th>ProfessionalTech</th>\n",
       "      <th>Industry</th>\n",
       "      <th>SurveyLength</th>\n",
       "      <th>SurveyEase</th>\n",
       "      <th>ConvertedCompYearly</th>\n",
       "    </tr>\n",
       "  </thead>\n",
       "  <tbody>\n",
       "    <tr>\n",
       "      <th>0</th>\n",
       "      <td>1</td>\n",
       "      <td>I agree</td>\n",
       "      <td>None of these</td>\n",
       "      <td>18-24 years old</td>\n",
       "      <td>NaN</td>\n",
       "      <td>NaN</td>\n",
       "      <td>NaN</td>\n",
       "      <td>NaN</td>\n",
       "      <td>NaN</td>\n",
       "      <td>NaN</td>\n",
       "      <td>...</td>\n",
       "      <td>NaN</td>\n",
       "      <td>NaN</td>\n",
       "      <td>NaN</td>\n",
       "      <td>NaN</td>\n",
       "      <td>NaN</td>\n",
       "      <td>NaN</td>\n",
       "      <td>NaN</td>\n",
       "      <td>NaN</td>\n",
       "      <td>NaN</td>\n",
       "      <td>NaN</td>\n",
       "    </tr>\n",
       "    <tr>\n",
       "      <th>1</th>\n",
       "      <td>2</td>\n",
       "      <td>I agree</td>\n",
       "      <td>I am a developer by profession</td>\n",
       "      <td>25-34 years old</td>\n",
       "      <td>Employed, full-time</td>\n",
       "      <td>Remote</td>\n",
       "      <td>Hobby;Contribute to open-source projects;Boots...</td>\n",
       "      <td>Bachelor’s degree (B.A., B.S., B.Eng., etc.)</td>\n",
       "      <td>Books / Physical media;Colleague;Friend or fam...</td>\n",
       "      <td>Formal documentation provided by the owner of ...</td>\n",
       "      <td>...</td>\n",
       "      <td>1-2 times a week</td>\n",
       "      <td>10+ times a week</td>\n",
       "      <td>Never</td>\n",
       "      <td>15-30 minutes a day</td>\n",
       "      <td>15-30 minutes a day</td>\n",
       "      <td>DevOps function;Microservices;Automated testin...</td>\n",
       "      <td>Information Services, IT, Software Development...</td>\n",
       "      <td>Appropriate in length</td>\n",
       "      <td>Easy</td>\n",
       "      <td>285000.0</td>\n",
       "    </tr>\n",
       "    <tr>\n",
       "      <th>2</th>\n",
       "      <td>3</td>\n",
       "      <td>I agree</td>\n",
       "      <td>I am a developer by profession</td>\n",
       "      <td>45-54 years old</td>\n",
       "      <td>Employed, full-time</td>\n",
       "      <td>Hybrid (some remote, some in-person)</td>\n",
       "      <td>Hobby;Professional development or self-paced l...</td>\n",
       "      <td>Bachelor’s degree (B.A., B.S., B.Eng., etc.)</td>\n",
       "      <td>Books / Physical media;Colleague;On the job tr...</td>\n",
       "      <td>Formal documentation provided by the owner of ...</td>\n",
       "      <td>...</td>\n",
       "      <td>6-10 times a week</td>\n",
       "      <td>6-10 times a week</td>\n",
       "      <td>3-5 times a week</td>\n",
       "      <td>30-60 minutes a day</td>\n",
       "      <td>30-60 minutes a day</td>\n",
       "      <td>DevOps function;Microservices;Automated testin...</td>\n",
       "      <td>Information Services, IT, Software Development...</td>\n",
       "      <td>Appropriate in length</td>\n",
       "      <td>Easy</td>\n",
       "      <td>250000.0</td>\n",
       "    </tr>\n",
       "    <tr>\n",
       "      <th>3</th>\n",
       "      <td>4</td>\n",
       "      <td>I agree</td>\n",
       "      <td>I am a developer by profession</td>\n",
       "      <td>25-34 years old</td>\n",
       "      <td>Employed, full-time</td>\n",
       "      <td>Hybrid (some remote, some in-person)</td>\n",
       "      <td>Hobby</td>\n",
       "      <td>Bachelor’s degree (B.A., B.S., B.Eng., etc.)</td>\n",
       "      <td>Colleague;Friend or family member;Other online...</td>\n",
       "      <td>Formal documentation provided by the owner of ...</td>\n",
       "      <td>...</td>\n",
       "      <td>1-2 times a week</td>\n",
       "      <td>10+ times a week</td>\n",
       "      <td>1-2 times a week</td>\n",
       "      <td>15-30 minutes a day</td>\n",
       "      <td>30-60 minutes a day</td>\n",
       "      <td>Automated testing;Continuous integration (CI) ...</td>\n",
       "      <td>NaN</td>\n",
       "      <td>Appropriate in length</td>\n",
       "      <td>Easy</td>\n",
       "      <td>156000.0</td>\n",
       "    </tr>\n",
       "    <tr>\n",
       "      <th>4</th>\n",
       "      <td>5</td>\n",
       "      <td>I agree</td>\n",
       "      <td>I am a developer by profession</td>\n",
       "      <td>25-34 years old</td>\n",
       "      <td>Employed, full-time;Independent contractor, fr...</td>\n",
       "      <td>Remote</td>\n",
       "      <td>Hobby;Contribute to open-source projects;Profe...</td>\n",
       "      <td>Bachelor’s degree (B.A., B.S., B.Eng., etc.)</td>\n",
       "      <td>Books / Physical media;Online Courses or Certi...</td>\n",
       "      <td>Formal documentation provided by the owner of ...</td>\n",
       "      <td>...</td>\n",
       "      <td>1-2 times a week</td>\n",
       "      <td>1-2 times a week</td>\n",
       "      <td>3-5 times a week</td>\n",
       "      <td>60-120 minutes a day</td>\n",
       "      <td>30-60 minutes a day</td>\n",
       "      <td>Microservices;Automated testing;Observability ...</td>\n",
       "      <td>Other</td>\n",
       "      <td>Appropriate in length</td>\n",
       "      <td>Neither easy nor difficult</td>\n",
       "      <td>23456.0</td>\n",
       "    </tr>\n",
       "  </tbody>\n",
       "</table>\n",
       "<p>5 rows × 84 columns</p>\n",
       "</div>"
      ],
      "text/plain": [
       "   ResponseId     Q120                      MainBranch              Age  \\\n",
       "0           1  I agree                   None of these  18-24 years old   \n",
       "1           2  I agree  I am a developer by profession  25-34 years old   \n",
       "2           3  I agree  I am a developer by profession  45-54 years old   \n",
       "3           4  I agree  I am a developer by profession  25-34 years old   \n",
       "4           5  I agree  I am a developer by profession  25-34 years old   \n",
       "\n",
       "                                          Employment  \\\n",
       "0                                                NaN   \n",
       "1                                Employed, full-time   \n",
       "2                                Employed, full-time   \n",
       "3                                Employed, full-time   \n",
       "4  Employed, full-time;Independent contractor, fr...   \n",
       "\n",
       "                             RemoteWork  \\\n",
       "0                                   NaN   \n",
       "1                                Remote   \n",
       "2  Hybrid (some remote, some in-person)   \n",
       "3  Hybrid (some remote, some in-person)   \n",
       "4                                Remote   \n",
       "\n",
       "                                    CodingActivities  \\\n",
       "0                                                NaN   \n",
       "1  Hobby;Contribute to open-source projects;Boots...   \n",
       "2  Hobby;Professional development or self-paced l...   \n",
       "3                                              Hobby   \n",
       "4  Hobby;Contribute to open-source projects;Profe...   \n",
       "\n",
       "                                        EdLevel  \\\n",
       "0                                           NaN   \n",
       "1  Bachelor’s degree (B.A., B.S., B.Eng., etc.)   \n",
       "2  Bachelor’s degree (B.A., B.S., B.Eng., etc.)   \n",
       "3  Bachelor’s degree (B.A., B.S., B.Eng., etc.)   \n",
       "4  Bachelor’s degree (B.A., B.S., B.Eng., etc.)   \n",
       "\n",
       "                                           LearnCode  \\\n",
       "0                                                NaN   \n",
       "1  Books / Physical media;Colleague;Friend or fam...   \n",
       "2  Books / Physical media;Colleague;On the job tr...   \n",
       "3  Colleague;Friend or family member;Other online...   \n",
       "4  Books / Physical media;Online Courses or Certi...   \n",
       "\n",
       "                                     LearnCodeOnline  ...        Frequency_1  \\\n",
       "0                                                NaN  ...                NaN   \n",
       "1  Formal documentation provided by the owner of ...  ...   1-2 times a week   \n",
       "2  Formal documentation provided by the owner of ...  ...  6-10 times a week   \n",
       "3  Formal documentation provided by the owner of ...  ...   1-2 times a week   \n",
       "4  Formal documentation provided by the owner of ...  ...   1-2 times a week   \n",
       "\n",
       "         Frequency_2       Frequency_3         TimeSearching  \\\n",
       "0                NaN               NaN                   NaN   \n",
       "1   10+ times a week             Never   15-30 minutes a day   \n",
       "2  6-10 times a week  3-5 times a week   30-60 minutes a day   \n",
       "3   10+ times a week  1-2 times a week   15-30 minutes a day   \n",
       "4   1-2 times a week  3-5 times a week  60-120 minutes a day   \n",
       "\n",
       "         TimeAnswering                                   ProfessionalTech  \\\n",
       "0                  NaN                                                NaN   \n",
       "1  15-30 minutes a day  DevOps function;Microservices;Automated testin...   \n",
       "2  30-60 minutes a day  DevOps function;Microservices;Automated testin...   \n",
       "3  30-60 minutes a day  Automated testing;Continuous integration (CI) ...   \n",
       "4  30-60 minutes a day  Microservices;Automated testing;Observability ...   \n",
       "\n",
       "                                            Industry           SurveyLength  \\\n",
       "0                                                NaN                    NaN   \n",
       "1  Information Services, IT, Software Development...  Appropriate in length   \n",
       "2  Information Services, IT, Software Development...  Appropriate in length   \n",
       "3                                                NaN  Appropriate in length   \n",
       "4                                              Other  Appropriate in length   \n",
       "\n",
       "                   SurveyEase ConvertedCompYearly  \n",
       "0                         NaN                 NaN  \n",
       "1                        Easy            285000.0  \n",
       "2                        Easy            250000.0  \n",
       "3                        Easy            156000.0  \n",
       "4  Neither easy nor difficult             23456.0  \n",
       "\n",
       "[5 rows x 84 columns]"
      ]
     },
     "execution_count": 41,
     "metadata": {},
     "output_type": "execute_result"
    }
   ],
   "source": [
    "df = pd.read_csv('/kaggle/input/stack-overflow-2023-developers-survey/survey_results_public.csv')\n",
    "df.head()"
   ]
  },
  {
   "cell_type": "markdown",
   "metadata": {},
   "source": [
    "#### **Understanding the Data**"
   ]
  },
  {
   "cell_type": "code",
   "execution_count": 42,
   "metadata": {
    "execution": {
     "iopub.execute_input": "2023-07-25T16:38:32.983776Z",
     "iopub.status.busy": "2023-07-25T16:38:32.982930Z",
     "iopub.status.idle": "2023-07-25T16:38:32.988272Z",
     "shell.execute_reply": "2023-07-25T16:38:32.987712Z",
     "shell.execute_reply.started": "2023-07-25T16:38:32.983749Z"
    }
   },
   "outputs": [
    {
     "data": {
      "text/plain": [
       "(89184, 84)"
      ]
     },
     "execution_count": 42,
     "metadata": {},
     "output_type": "execute_result"
    }
   ],
   "source": [
    "df.shape"
   ]
  },
  {
   "cell_type": "markdown",
   "metadata": {},
   "source": [
    "The dataset has 89184 rows and 84 columns. We will choose most relevant columns for prediction and drop the rest."
   ]
  },
  {
   "cell_type": "code",
   "execution_count": 43,
   "metadata": {
    "execution": {
     "iopub.execute_input": "2023-07-25T16:38:32.989581Z",
     "iopub.status.busy": "2023-07-25T16:38:32.989307Z",
     "iopub.status.idle": "2023-07-25T16:38:33.004351Z",
     "shell.execute_reply": "2023-07-25T16:38:33.003166Z",
     "shell.execute_reply.started": "2023-07-25T16:38:32.989559Z"
    }
   },
   "outputs": [
    {
     "data": {
      "text/plain": [
       "Index(['ResponseId', 'Q120', 'MainBranch', 'Age', 'Employment', 'RemoteWork',\n",
       "       'CodingActivities', 'EdLevel', 'LearnCode', 'LearnCodeOnline',\n",
       "       'LearnCodeCoursesCert', 'YearsCode', 'YearsCodePro', 'DevType',\n",
       "       'OrgSize', 'PurchaseInfluence', 'TechList', 'BuyNewTool', 'Country',\n",
       "       'Currency', 'CompTotal', 'LanguageHaveWorkedWith',\n",
       "       'LanguageWantToWorkWith', 'DatabaseHaveWorkedWith',\n",
       "       'DatabaseWantToWorkWith', 'PlatformHaveWorkedWith',\n",
       "       'PlatformWantToWorkWith', 'WebframeHaveWorkedWith',\n",
       "       'WebframeWantToWorkWith', 'MiscTechHaveWorkedWith',\n",
       "       'MiscTechWantToWorkWith', 'ToolsTechHaveWorkedWith',\n",
       "       'ToolsTechWantToWorkWith', 'NEWCollabToolsHaveWorkedWith',\n",
       "       'NEWCollabToolsWantToWorkWith', 'OpSysPersonal use',\n",
       "       'OpSysProfessional use', 'OfficeStackAsyncHaveWorkedWith',\n",
       "       'OfficeStackAsyncWantToWorkWith', 'OfficeStackSyncHaveWorkedWith',\n",
       "       'OfficeStackSyncWantToWorkWith', 'AISearchHaveWorkedWith',\n",
       "       'AISearchWantToWorkWith', 'AIDevHaveWorkedWith', 'AIDevWantToWorkWith',\n",
       "       'NEWSOSites', 'SOVisitFreq', 'SOAccount', 'SOPartFreq', 'SOComm',\n",
       "       'SOAI', 'AISelect', 'AISent', 'AIAcc', 'AIBen',\n",
       "       'AIToolInterested in Using', 'AIToolCurrently Using',\n",
       "       'AIToolNot interested in Using', 'AINextVery different',\n",
       "       'AINextNeither different nor similar', 'AINextSomewhat similar',\n",
       "       'AINextVery similar', 'AINextSomewhat different', 'TBranch', 'ICorPM',\n",
       "       'WorkExp', 'Knowledge_1', 'Knowledge_2', 'Knowledge_3', 'Knowledge_4',\n",
       "       'Knowledge_5', 'Knowledge_6', 'Knowledge_7', 'Knowledge_8',\n",
       "       'Frequency_1', 'Frequency_2', 'Frequency_3', 'TimeSearching',\n",
       "       'TimeAnswering', 'ProfessionalTech', 'Industry', 'SurveyLength',\n",
       "       'SurveyEase', 'ConvertedCompYearly'],\n",
       "      dtype='object')"
      ]
     },
     "execution_count": 43,
     "metadata": {},
     "output_type": "execute_result"
    }
   ],
   "source": [
    "df.columns"
   ]
  },
  {
   "cell_type": "markdown",
   "metadata": {},
   "source": [
    "Rename the ConvertedCompYearly to Salary."
   ]
  },
  {
   "cell_type": "markdown",
   "metadata": {},
   "source": [
    "#### **Feature Engineering**"
   ]
  },
  {
   "cell_type": "code",
   "execution_count": 44,
   "metadata": {
    "execution": {
     "iopub.execute_input": "2023-07-25T16:38:33.006758Z",
     "iopub.status.busy": "2023-07-25T16:38:33.006521Z",
     "iopub.status.idle": "2023-07-25T16:38:33.046997Z",
     "shell.execute_reply": "2023-07-25T16:38:33.046104Z",
     "shell.execute_reply.started": "2023-07-25T16:38:33.006738Z"
    }
   },
   "outputs": [],
   "source": [
    "df=df.rename({'ConvertedCompYearly':\"Salary\"},axis=1)"
   ]
  },
  {
   "cell_type": "code",
   "execution_count": 45,
   "metadata": {
    "execution": {
     "iopub.execute_input": "2023-07-25T16:38:33.048712Z",
     "iopub.status.busy": "2023-07-25T16:38:33.048175Z",
     "iopub.status.idle": "2023-07-25T16:38:33.131607Z",
     "shell.execute_reply": "2023-07-25T16:38:33.130726Z",
     "shell.execute_reply.started": "2023-07-25T16:38:33.048682Z"
    }
   },
   "outputs": [],
   "source": [
    "df = df[df[\"Salary\"].notnull()]"
   ]
  },
  {
   "cell_type": "code",
   "execution_count": 46,
   "metadata": {
    "execution": {
     "iopub.execute_input": "2023-07-25T16:38:33.134115Z",
     "iopub.status.busy": "2023-07-25T16:38:33.133253Z",
     "iopub.status.idle": "2023-07-25T16:38:33.640711Z",
     "shell.execute_reply": "2023-07-25T16:38:33.639854Z",
     "shell.execute_reply.started": "2023-07-25T16:38:33.134072Z"
    }
   },
   "outputs": [
    {
     "data": {
      "text/plain": [
       "AINextVery similar                     46571\n",
       "AINextNeither different nor similar    44685\n",
       "AINextSomewhat similar                 44639\n",
       "AINextVery different                   41681\n",
       "AIDevWantToWorkWith                    37357\n",
       "                                       ...  \n",
       "Country                                    0\n",
       "EdLevel                                    0\n",
       "Age                                        0\n",
       "MainBranch                                 0\n",
       "Salary                                     0\n",
       "Length: 84, dtype: int64"
      ]
     },
     "execution_count": 46,
     "metadata": {},
     "output_type": "execute_result"
    }
   ],
   "source": [
    "df.isna().sum().sort_values(ascending=False)"
   ]
  },
  {
   "cell_type": "markdown",
   "metadata": {},
   "source": [
    "I am choosing Country, Age, RemoteWork, Employment, EdLevel, YearsCodePro, Salary columns."
   ]
  },
  {
   "cell_type": "code",
   "execution_count": 47,
   "metadata": {
    "execution": {
     "iopub.execute_input": "2023-07-25T16:38:33.642272Z",
     "iopub.status.busy": "2023-07-25T16:38:33.641731Z",
     "iopub.status.idle": "2023-07-25T16:38:33.672676Z",
     "shell.execute_reply": "2023-07-25T16:38:33.671706Z",
     "shell.execute_reply.started": "2023-07-25T16:38:33.642243Z"
    }
   },
   "outputs": [
    {
     "data": {
      "text/html": [
       "<div>\n",
       "<style scoped>\n",
       "    .dataframe tbody tr th:only-of-type {\n",
       "        vertical-align: middle;\n",
       "    }\n",
       "\n",
       "    .dataframe tbody tr th {\n",
       "        vertical-align: top;\n",
       "    }\n",
       "\n",
       "    .dataframe thead th {\n",
       "        text-align: right;\n",
       "    }\n",
       "</style>\n",
       "<table border=\"1\" class=\"dataframe\">\n",
       "  <thead>\n",
       "    <tr style=\"text-align: right;\">\n",
       "      <th></th>\n",
       "      <th>Country</th>\n",
       "      <th>Age</th>\n",
       "      <th>RemoteWork</th>\n",
       "      <th>Employment</th>\n",
       "      <th>EdLevel</th>\n",
       "      <th>YearsCodePro</th>\n",
       "      <th>Salary</th>\n",
       "    </tr>\n",
       "  </thead>\n",
       "  <tbody>\n",
       "    <tr>\n",
       "      <th>1</th>\n",
       "      <td>United States of America</td>\n",
       "      <td>25-34 years old</td>\n",
       "      <td>Remote</td>\n",
       "      <td>Employed, full-time</td>\n",
       "      <td>Bachelor’s degree (B.A., B.S., B.Eng., etc.)</td>\n",
       "      <td>9</td>\n",
       "      <td>285000.0</td>\n",
       "    </tr>\n",
       "    <tr>\n",
       "      <th>2</th>\n",
       "      <td>United States of America</td>\n",
       "      <td>45-54 years old</td>\n",
       "      <td>Hybrid (some remote, some in-person)</td>\n",
       "      <td>Employed, full-time</td>\n",
       "      <td>Bachelor’s degree (B.A., B.S., B.Eng., etc.)</td>\n",
       "      <td>23</td>\n",
       "      <td>250000.0</td>\n",
       "    </tr>\n",
       "    <tr>\n",
       "      <th>3</th>\n",
       "      <td>United States of America</td>\n",
       "      <td>25-34 years old</td>\n",
       "      <td>Hybrid (some remote, some in-person)</td>\n",
       "      <td>Employed, full-time</td>\n",
       "      <td>Bachelor’s degree (B.A., B.S., B.Eng., etc.)</td>\n",
       "      <td>7</td>\n",
       "      <td>156000.0</td>\n",
       "    </tr>\n",
       "    <tr>\n",
       "      <th>4</th>\n",
       "      <td>Philippines</td>\n",
       "      <td>25-34 years old</td>\n",
       "      <td>Remote</td>\n",
       "      <td>Employed, full-time;Independent contractor, fr...</td>\n",
       "      <td>Bachelor’s degree (B.A., B.S., B.Eng., etc.)</td>\n",
       "      <td>4</td>\n",
       "      <td>23456.0</td>\n",
       "    </tr>\n",
       "    <tr>\n",
       "      <th>5</th>\n",
       "      <td>United Kingdom of Great Britain and Northern I...</td>\n",
       "      <td>35-44 years old</td>\n",
       "      <td>Remote</td>\n",
       "      <td>Employed, full-time</td>\n",
       "      <td>Some college/university study without earning ...</td>\n",
       "      <td>21</td>\n",
       "      <td>96828.0</td>\n",
       "    </tr>\n",
       "  </tbody>\n",
       "</table>\n",
       "</div>"
      ],
      "text/plain": [
       "                                             Country              Age  \\\n",
       "1                           United States of America  25-34 years old   \n",
       "2                           United States of America  45-54 years old   \n",
       "3                           United States of America  25-34 years old   \n",
       "4                                        Philippines  25-34 years old   \n",
       "5  United Kingdom of Great Britain and Northern I...  35-44 years old   \n",
       "\n",
       "                             RemoteWork  \\\n",
       "1                                Remote   \n",
       "2  Hybrid (some remote, some in-person)   \n",
       "3  Hybrid (some remote, some in-person)   \n",
       "4                                Remote   \n",
       "5                                Remote   \n",
       "\n",
       "                                          Employment  \\\n",
       "1                                Employed, full-time   \n",
       "2                                Employed, full-time   \n",
       "3                                Employed, full-time   \n",
       "4  Employed, full-time;Independent contractor, fr...   \n",
       "5                                Employed, full-time   \n",
       "\n",
       "                                             EdLevel YearsCodePro    Salary  \n",
       "1       Bachelor’s degree (B.A., B.S., B.Eng., etc.)            9  285000.0  \n",
       "2       Bachelor’s degree (B.A., B.S., B.Eng., etc.)           23  250000.0  \n",
       "3       Bachelor’s degree (B.A., B.S., B.Eng., etc.)            7  156000.0  \n",
       "4       Bachelor’s degree (B.A., B.S., B.Eng., etc.)            4   23456.0  \n",
       "5  Some college/university study without earning ...           21   96828.0  "
      ]
     },
     "execution_count": 47,
     "metadata": {},
     "output_type": "execute_result"
    }
   ],
   "source": [
    "df = df[[\"Country\",'Age','RemoteWork','Employment','EdLevel','YearsCodePro','Salary']]\n",
    "df.head()"
   ]
  },
  {
   "cell_type": "markdown",
   "metadata": {},
   "source": [
    "Check the missing values."
   ]
  },
  {
   "cell_type": "code",
   "execution_count": 48,
   "metadata": {
    "execution": {
     "iopub.execute_input": "2023-07-25T16:38:33.673917Z",
     "iopub.status.busy": "2023-07-25T16:38:33.673607Z",
     "iopub.status.idle": "2023-07-25T16:38:33.718983Z",
     "shell.execute_reply": "2023-07-25T16:38:33.717989Z",
     "shell.execute_reply.started": "2023-07-25T16:38:33.673888Z"
    }
   },
   "outputs": [
    {
     "data": {
      "text/plain": [
       "Country           0\n",
       "Age               0\n",
       "RemoteWork       79\n",
       "Employment       12\n",
       "EdLevel           0\n",
       "YearsCodePro    194\n",
       "Salary            0\n",
       "dtype: int64"
      ]
     },
     "execution_count": 48,
     "metadata": {},
     "output_type": "execute_result"
    }
   ],
   "source": [
    "df.isna().sum()"
   ]
  },
  {
   "cell_type": "code",
   "execution_count": 49,
   "metadata": {
    "execution": {
     "iopub.execute_input": "2023-07-25T16:38:33.720812Z",
     "iopub.status.busy": "2023-07-25T16:38:33.720461Z",
     "iopub.status.idle": "2023-07-25T16:38:33.769157Z",
     "shell.execute_reply": "2023-07-25T16:38:33.768035Z",
     "shell.execute_reply.started": "2023-07-25T16:38:33.720782Z"
    }
   },
   "outputs": [
    {
     "name": "stdout",
     "output_type": "stream",
     "text": [
      "<class 'pandas.core.frame.DataFrame'>\n",
      "Int64Index: 48019 entries, 1 to 89171\n",
      "Data columns (total 7 columns):\n",
      " #   Column        Non-Null Count  Dtype  \n",
      "---  ------        --------------  -----  \n",
      " 0   Country       48019 non-null  object \n",
      " 1   Age           48019 non-null  object \n",
      " 2   RemoteWork    47940 non-null  object \n",
      " 3   Employment    48007 non-null  object \n",
      " 4   EdLevel       48019 non-null  object \n",
      " 5   YearsCodePro  47825 non-null  object \n",
      " 6   Salary        48019 non-null  float64\n",
      "dtypes: float64(1), object(6)\n",
      "memory usage: 2.9+ MB\n"
     ]
    }
   ],
   "source": [
    "df.info()"
   ]
  },
  {
   "cell_type": "markdown",
   "metadata": {},
   "source": [
    "Since we have enough data, I prefer to drop the rows with null values for simplicity."
   ]
  },
  {
   "cell_type": "code",
   "execution_count": 50,
   "metadata": {
    "execution": {
     "iopub.execute_input": "2023-07-25T16:38:33.773824Z",
     "iopub.status.busy": "2023-07-25T16:38:33.773575Z",
     "iopub.status.idle": "2023-07-25T16:38:33.858625Z",
     "shell.execute_reply": "2023-07-25T16:38:33.857751Z",
     "shell.execute_reply.started": "2023-07-25T16:38:33.773803Z"
    }
   },
   "outputs": [
    {
     "data": {
      "text/plain": [
       "Country         0\n",
       "Age             0\n",
       "RemoteWork      0\n",
       "Employment      0\n",
       "EdLevel         0\n",
       "YearsCodePro    0\n",
       "Salary          0\n",
       "dtype: int64"
      ]
     },
     "execution_count": 50,
     "metadata": {},
     "output_type": "execute_result"
    }
   ],
   "source": [
    "df=df.dropna()\n",
    "df.isna().sum()"
   ]
  },
  {
   "cell_type": "code",
   "execution_count": 51,
   "metadata": {
    "execution": {
     "iopub.execute_input": "2023-07-25T16:38:33.860630Z",
     "iopub.status.busy": "2023-07-25T16:38:33.860031Z",
     "iopub.status.idle": "2023-07-25T16:38:33.865834Z",
     "shell.execute_reply": "2023-07-25T16:38:33.864856Z",
     "shell.execute_reply.started": "2023-07-25T16:38:33.860601Z"
    }
   },
   "outputs": [
    {
     "data": {
      "text/plain": [
       "(47747, 7)"
      ]
     },
     "execution_count": 51,
     "metadata": {},
     "output_type": "execute_result"
    }
   ],
   "source": [
    "df.shape"
   ]
  },
  {
   "cell_type": "code",
   "execution_count": 52,
   "metadata": {
    "execution": {
     "iopub.execute_input": "2023-07-25T16:38:33.867785Z",
     "iopub.status.busy": "2023-07-25T16:38:33.867146Z",
     "iopub.status.idle": "2023-07-25T16:38:33.883865Z",
     "shell.execute_reply": "2023-07-25T16:38:33.882691Z",
     "shell.execute_reply.started": "2023-07-25T16:38:33.867753Z"
    }
   },
   "outputs": [
    {
     "data": {
      "text/plain": [
       "Employed, full-time                                                                             39155\n",
       "Independent contractor, freelancer, or self-employed                                             3880\n",
       "Employed, full-time;Independent contractor, freelancer, or self-employed                         3282\n",
       "Employed, part-time                                                                               899\n",
       "Independent contractor, freelancer, or self-employed;Employed, part-time                          238\n",
       "Employed, full-time;Employed, part-time                                                           152\n",
       "Employed, full-time;Independent contractor, freelancer, or self-employed;Employed, part-time      109\n",
       "Independent contractor, freelancer, or self-employed;Retired                                       16\n",
       "Employed, full-time;Retired                                                                         7\n",
       "Employed, full-time;Independent contractor, freelancer, or self-employed;Retired                    4\n",
       "Employed, part-time;Retired                                                                         3\n",
       "Independent contractor, freelancer, or self-employed;Employed, part-time;Retired                    2\n",
       "Name: Employment, dtype: int64"
      ]
     },
     "execution_count": 52,
     "metadata": {},
     "output_type": "execute_result"
    }
   ],
   "source": [
    "df[\"Employment\"].value_counts()"
   ]
  },
  {
   "cell_type": "markdown",
   "metadata": {},
   "source": [
    "Let us create the dataframe with only full-time employed as we are predicting salary of full time employees only."
   ]
  },
  {
   "cell_type": "code",
   "execution_count": 53,
   "metadata": {
    "execution": {
     "iopub.execute_input": "2023-07-25T16:38:33.885922Z",
     "iopub.status.busy": "2023-07-25T16:38:33.885631Z",
     "iopub.status.idle": "2023-07-25T16:38:33.931269Z",
     "shell.execute_reply": "2023-07-25T16:38:33.930439Z",
     "shell.execute_reply.started": "2023-07-25T16:38:33.885895Z"
    }
   },
   "outputs": [
    {
     "name": "stdout",
     "output_type": "stream",
     "text": [
      "<class 'pandas.core.frame.DataFrame'>\n",
      "Int64Index: 39155 entries, 1 to 89171\n",
      "Data columns (total 6 columns):\n",
      " #   Column        Non-Null Count  Dtype  \n",
      "---  ------        --------------  -----  \n",
      " 0   Country       39155 non-null  object \n",
      " 1   Age           39155 non-null  object \n",
      " 2   RemoteWork    39155 non-null  object \n",
      " 3   EdLevel       39155 non-null  object \n",
      " 4   YearsCodePro  39155 non-null  object \n",
      " 5   Salary        39155 non-null  float64\n",
      "dtypes: float64(1), object(5)\n",
      "memory usage: 2.1+ MB\n"
     ]
    }
   ],
   "source": [
    "df = df[df[\"Employment\"]==\"Employed, full-time\"]\n",
    "df = df.drop(\"Employment\",axis=1)\n",
    "df.info()"
   ]
  },
  {
   "cell_type": "code",
   "execution_count": 54,
   "metadata": {
    "execution": {
     "iopub.execute_input": "2023-07-25T16:38:33.932854Z",
     "iopub.status.busy": "2023-07-25T16:38:33.932635Z",
     "iopub.status.idle": "2023-07-25T16:38:33.942846Z",
     "shell.execute_reply": "2023-07-25T16:38:33.941871Z",
     "shell.execute_reply.started": "2023-07-25T16:38:33.932833Z"
    }
   },
   "outputs": [
    {
     "data": {
      "text/plain": [
       "United States of America                                10569\n",
       "Germany                                                  3201\n",
       "United Kingdom of Great Britain and Northern Ireland     3072\n",
       "Canada                                                   1807\n",
       "India                                                    1600\n",
       "                                                        ...  \n",
       "Botswana                                                    1\n",
       "Sierra Leone                                                1\n",
       "Guyana                                                      1\n",
       "Guinea-Bissau                                               1\n",
       "Antigua and Barbuda                                         1\n",
       "Name: Country, Length: 165, dtype: int64"
      ]
     },
     "execution_count": 54,
     "metadata": {},
     "output_type": "execute_result"
    }
   ],
   "source": [
    "df['Country'].value_counts()\n"
   ]
  },
  {
   "cell_type": "markdown",
   "metadata": {},
   "source": [
    "Let us put those countries with less than 400 entries into Other category."
   ]
  },
  {
   "cell_type": "code",
   "execution_count": 55,
   "metadata": {
    "execution": {
     "iopub.execute_input": "2023-07-25T16:38:33.944379Z",
     "iopub.status.busy": "2023-07-25T16:38:33.944162Z",
     "iopub.status.idle": "2023-07-25T16:38:33.954425Z",
     "shell.execute_reply": "2023-07-25T16:38:33.953712Z",
     "shell.execute_reply.started": "2023-07-25T16:38:33.944359Z"
    }
   },
   "outputs": [],
   "source": [
    "def shorten_categories(categories,cutoff):\n",
    "    categories_map = {}\n",
    "    for i in range(len(categories)):\n",
    "        if categories.values[i]>=cutoff:\n",
    "            categories_map[categories.index[i]] = categories.index[i]\n",
    "        else:\n",
    "            categories_map[categories.index[i]] = 'Other'\n",
    "    return categories_map"
   ]
  },
  {
   "cell_type": "code",
   "execution_count": 56,
   "metadata": {
    "execution": {
     "iopub.execute_input": "2023-07-25T16:38:33.955707Z",
     "iopub.status.busy": "2023-07-25T16:38:33.955483Z",
     "iopub.status.idle": "2023-07-25T16:38:33.974424Z",
     "shell.execute_reply": "2023-07-25T16:38:33.973506Z",
     "shell.execute_reply.started": "2023-07-25T16:38:33.955687Z"
    }
   },
   "outputs": [],
   "source": [
    "country_map = shorten_categories(df['Country'].value_counts(),400)\n",
    "df[\"Country\"] = df[\"Country\"].map(country_map)"
   ]
  },
  {
   "cell_type": "code",
   "execution_count": 57,
   "metadata": {
    "execution": {
     "iopub.execute_input": "2023-07-25T16:38:33.976078Z",
     "iopub.status.busy": "2023-07-25T16:38:33.975834Z",
     "iopub.status.idle": "2023-07-25T16:38:33.991134Z",
     "shell.execute_reply": "2023-07-25T16:38:33.990182Z",
     "shell.execute_reply.started": "2023-07-25T16:38:33.976057Z"
    }
   },
   "outputs": [
    {
     "data": {
      "text/plain": [
       "United States of America                                10569\n",
       "Other                                                    9282\n",
       "Germany                                                  3201\n",
       "United Kingdom of Great Britain and Northern Ireland     3072\n",
       "Canada                                                   1807\n",
       "India                                                    1600\n",
       "France                                                   1458\n",
       "Netherlands                                              1002\n",
       "Australia                                                 985\n",
       "Brazil                                                    972\n",
       "Spain                                                     966\n",
       "Sweden                                                    882\n",
       "Italy                                                     826\n",
       "Poland                                                    740\n",
       "Switzerland                                               511\n",
       "Denmark                                                   440\n",
       "Norway                                                    428\n",
       "Israel                                                    414\n",
       "Name: Country, dtype: int64"
      ]
     },
     "execution_count": 57,
     "metadata": {},
     "output_type": "execute_result"
    }
   ],
   "source": [
    "df['Country'].value_counts()"
   ]
  },
  {
   "cell_type": "markdown",
   "metadata": {},
   "source": [
    "Let us check for Outliers."
   ]
  },
  {
   "cell_type": "code",
   "execution_count": 58,
   "metadata": {
    "execution": {
     "iopub.execute_input": "2023-07-25T16:38:33.992677Z",
     "iopub.status.busy": "2023-07-25T16:38:33.992012Z",
     "iopub.status.idle": "2023-07-25T16:38:34.383273Z",
     "shell.execute_reply": "2023-07-25T16:38:34.382270Z",
     "shell.execute_reply.started": "2023-07-25T16:38:33.992655Z"
    }
   },
   "outputs": [
    {
     "data": {
      "image/png": "[encoded data removed]",
      "text/plain": [
       "<Figure size 1200x700 with 1 Axes>"
      ]
     },
     "metadata": {},
     "output_type": "display_data"
    }
   ],
   "source": [
    "fig,ax = plt.subplots(1,1,figsize=(12,7))\n",
    "plt.ticklabel_format(style = 'plain')\n",
    "\n",
    "df.boxplot(\"Salary\",\"Country\",ax=ax)\n",
    "plt.suptitle(\"Salary USD v Country\")\n",
    "plt.title('')\n",
    "plt.ylabel(\"Salary\")\n",
    "plt.xticks(rotation=90)\n",
    "\n",
    "plt.show()"
   ]
  },
  {
   "cell_type": "markdown",
   "metadata": {},
   "source": [
    "Using capping method let us remove the outliers."
   ]
  },
  {
   "cell_type": "code",
   "execution_count": 59,
   "metadata": {
    "execution": {
     "iopub.execute_input": "2023-07-25T16:38:34.384555Z",
     "iopub.status.busy": "2023-07-25T16:38:34.384297Z",
     "iopub.status.idle": "2023-07-25T16:38:34.427845Z",
     "shell.execute_reply": "2023-07-25T16:38:34.426821Z",
     "shell.execute_reply.started": "2023-07-25T16:38:34.384534Z"
    }
   },
   "outputs": [
    {
     "data": {
      "text/html": [
       "<div>\n",
       "<style scoped>\n",
       "    .dataframe tbody tr th:only-of-type {\n",
       "        vertical-align: middle;\n",
       "    }\n",
       "\n",
       "    .dataframe tbody tr th {\n",
       "        vertical-align: top;\n",
       "    }\n",
       "\n",
       "    .dataframe thead th {\n",
       "        text-align: right;\n",
       "    }\n",
       "</style>\n",
       "<table border=\"1\" class=\"dataframe\">\n",
       "  <thead>\n",
       "    <tr style=\"text-align: right;\">\n",
       "      <th></th>\n",
       "      <th>Country</th>\n",
       "      <th>25%</th>\n",
       "      <th>75%</th>\n",
       "    </tr>\n",
       "  </thead>\n",
       "  <tbody>\n",
       "    <tr>\n",
       "      <th>0</th>\n",
       "      <td>Australia</td>\n",
       "      <td>72714.0</td>\n",
       "      <td>118987.0</td>\n",
       "    </tr>\n",
       "    <tr>\n",
       "      <th>1</th>\n",
       "      <td>Brazil</td>\n",
       "      <td>17042.0</td>\n",
       "      <td>48690.0</td>\n",
       "    </tr>\n",
       "    <tr>\n",
       "      <th>2</th>\n",
       "      <td>Canada</td>\n",
       "      <td>66916.0</td>\n",
       "      <td>118962.0</td>\n",
       "    </tr>\n",
       "    <tr>\n",
       "      <th>3</th>\n",
       "      <td>Denmark</td>\n",
       "      <td>74193.0</td>\n",
       "      <td>115028.0</td>\n",
       "    </tr>\n",
       "    <tr>\n",
       "      <th>4</th>\n",
       "      <td>France</td>\n",
       "      <td>43907.0</td>\n",
       "      <td>71750.0</td>\n",
       "    </tr>\n",
       "  </tbody>\n",
       "</table>\n",
       "</div>"
      ],
      "text/plain": [
       "     Country      25%       75%\n",
       "0  Australia  72714.0  118987.0\n",
       "1     Brazil  17042.0   48690.0\n",
       "2     Canada  66916.0  118962.0\n",
       "3    Denmark  74193.0  115028.0\n",
       "4     France  43907.0   71750.0"
      ]
     },
     "execution_count": 59,
     "metadata": {},
     "output_type": "execute_result"
    }
   ],
   "source": [
    "data = df.groupby('Country')['Salary'].describe().reset_index()[['Country','25%','75%']]\n",
    "data.head()"
   ]
  },
  {
   "cell_type": "code",
   "execution_count": 60,
   "metadata": {
    "execution": {
     "iopub.execute_input": "2023-07-25T16:38:34.429124Z",
     "iopub.status.busy": "2023-07-25T16:38:34.428916Z",
     "iopub.status.idle": "2023-07-25T16:38:34.451443Z",
     "shell.execute_reply": "2023-07-25T16:38:34.450710Z",
     "shell.execute_reply.started": "2023-07-25T16:38:34.429104Z"
    }
   },
   "outputs": [
    {
     "data": {
      "text/html": [
       "<div>\n",
       "<style scoped>\n",
       "    .dataframe tbody tr th:only-of-type {\n",
       "        vertical-align: middle;\n",
       "    }\n",
       "\n",
       "    .dataframe tbody tr th {\n",
       "        vertical-align: top;\n",
       "    }\n",
       "\n",
       "    .dataframe thead th {\n",
       "        text-align: right;\n",
       "    }\n",
       "</style>\n",
       "<table border=\"1\" class=\"dataframe\">\n",
       "  <thead>\n",
       "    <tr style=\"text-align: right;\">\n",
       "      <th></th>\n",
       "      <th>Country</th>\n",
       "      <th>Age</th>\n",
       "      <th>RemoteWork</th>\n",
       "      <th>EdLevel</th>\n",
       "      <th>YearsCodePro</th>\n",
       "      <th>Salary</th>\n",
       "      <th>25%</th>\n",
       "      <th>75%</th>\n",
       "    </tr>\n",
       "  </thead>\n",
       "  <tbody>\n",
       "    <tr>\n",
       "      <th>0</th>\n",
       "      <td>United States of America</td>\n",
       "      <td>25-34 years old</td>\n",
       "      <td>Remote</td>\n",
       "      <td>Bachelor’s degree (B.A., B.S., B.Eng., etc.)</td>\n",
       "      <td>9</td>\n",
       "      <td>285000.0</td>\n",
       "      <td>110000.0</td>\n",
       "      <td>200000.0</td>\n",
       "    </tr>\n",
       "    <tr>\n",
       "      <th>1</th>\n",
       "      <td>United States of America</td>\n",
       "      <td>45-54 years old</td>\n",
       "      <td>Hybrid (some remote, some in-person)</td>\n",
       "      <td>Bachelor’s degree (B.A., B.S., B.Eng., etc.)</td>\n",
       "      <td>23</td>\n",
       "      <td>250000.0</td>\n",
       "      <td>110000.0</td>\n",
       "      <td>200000.0</td>\n",
       "    </tr>\n",
       "    <tr>\n",
       "      <th>2</th>\n",
       "      <td>United States of America</td>\n",
       "      <td>25-34 years old</td>\n",
       "      <td>Hybrid (some remote, some in-person)</td>\n",
       "      <td>Bachelor’s degree (B.A., B.S., B.Eng., etc.)</td>\n",
       "      <td>7</td>\n",
       "      <td>156000.0</td>\n",
       "      <td>110000.0</td>\n",
       "      <td>200000.0</td>\n",
       "    </tr>\n",
       "    <tr>\n",
       "      <th>3</th>\n",
       "      <td>United Kingdom of Great Britain and Northern I...</td>\n",
       "      <td>35-44 years old</td>\n",
       "      <td>Remote</td>\n",
       "      <td>Some college/university study without earning ...</td>\n",
       "      <td>21</td>\n",
       "      <td>96828.0</td>\n",
       "      <td>59586.0</td>\n",
       "      <td>111724.0</td>\n",
       "    </tr>\n",
       "    <tr>\n",
       "      <th>4</th>\n",
       "      <td>United States of America</td>\n",
       "      <td>35-44 years old</td>\n",
       "      <td>Remote</td>\n",
       "      <td>Some college/university study without earning ...</td>\n",
       "      <td>3</td>\n",
       "      <td>135000.0</td>\n",
       "      <td>110000.0</td>\n",
       "      <td>200000.0</td>\n",
       "    </tr>\n",
       "  </tbody>\n",
       "</table>\n",
       "</div>"
      ],
      "text/plain": [
       "                                             Country              Age  \\\n",
       "0                           United States of America  25-34 years old   \n",
       "1                           United States of America  45-54 years old   \n",
       "2                           United States of America  25-34 years old   \n",
       "3  United Kingdom of Great Britain and Northern I...  35-44 years old   \n",
       "4                           United States of America  35-44 years old   \n",
       "\n",
       "                             RemoteWork  \\\n",
       "0                                Remote   \n",
       "1  Hybrid (some remote, some in-person)   \n",
       "2  Hybrid (some remote, some in-person)   \n",
       "3                                Remote   \n",
       "4                                Remote   \n",
       "\n",
       "                                             EdLevel YearsCodePro    Salary  \\\n",
       "0       Bachelor’s degree (B.A., B.S., B.Eng., etc.)            9  285000.0   \n",
       "1       Bachelor’s degree (B.A., B.S., B.Eng., etc.)           23  250000.0   \n",
       "2       Bachelor’s degree (B.A., B.S., B.Eng., etc.)            7  156000.0   \n",
       "3  Some college/university study without earning ...           21   96828.0   \n",
       "4  Some college/university study without earning ...            3  135000.0   \n",
       "\n",
       "        25%       75%  \n",
       "0  110000.0  200000.0  \n",
       "1  110000.0  200000.0  \n",
       "2  110000.0  200000.0  \n",
       "3   59586.0  111724.0  \n",
       "4  110000.0  200000.0  "
      ]
     },
     "execution_count": 60,
     "metadata": {},
     "output_type": "execute_result"
    }
   ],
   "source": [
    "df = df.merge(data, on = \"Country\",how =\"left\")\n",
    "df.head()"
   ]
  },
  {
   "cell_type": "code",
   "execution_count": 61,
   "metadata": {
    "execution": {
     "iopub.execute_input": "2023-07-25T16:38:34.452902Z",
     "iopub.status.busy": "2023-07-25T16:38:34.452465Z",
     "iopub.status.idle": "2023-07-25T16:38:34.470607Z",
     "shell.execute_reply": "2023-07-25T16:38:34.469973Z",
     "shell.execute_reply.started": "2023-07-25T16:38:34.452880Z"
    }
   },
   "outputs": [
    {
     "data": {
      "text/html": [
       "<div>\n",
       "<style scoped>\n",
       "    .dataframe tbody tr th:only-of-type {\n",
       "        vertical-align: middle;\n",
       "    }\n",
       "\n",
       "    .dataframe tbody tr th {\n",
       "        vertical-align: top;\n",
       "    }\n",
       "\n",
       "    .dataframe thead th {\n",
       "        text-align: right;\n",
       "    }\n",
       "</style>\n",
       "<table border=\"1\" class=\"dataframe\">\n",
       "  <thead>\n",
       "    <tr style=\"text-align: right;\">\n",
       "      <th></th>\n",
       "      <th>Country</th>\n",
       "      <th>Age</th>\n",
       "      <th>RemoteWork</th>\n",
       "      <th>EdLevel</th>\n",
       "      <th>YearsCodePro</th>\n",
       "      <th>Salary</th>\n",
       "      <th>25%</th>\n",
       "      <th>75%</th>\n",
       "    </tr>\n",
       "  </thead>\n",
       "  <tbody>\n",
       "    <tr>\n",
       "      <th>0</th>\n",
       "      <td>United States of America</td>\n",
       "      <td>25-34 years old</td>\n",
       "      <td>Remote</td>\n",
       "      <td>Bachelor’s degree (B.A., B.S., B.Eng., etc.)</td>\n",
       "      <td>9</td>\n",
       "      <td>200000.0</td>\n",
       "      <td>110000.00</td>\n",
       "      <td>200000.0</td>\n",
       "    </tr>\n",
       "    <tr>\n",
       "      <th>1</th>\n",
       "      <td>United States of America</td>\n",
       "      <td>45-54 years old</td>\n",
       "      <td>Hybrid (some remote, some in-person)</td>\n",
       "      <td>Bachelor’s degree (B.A., B.S., B.Eng., etc.)</td>\n",
       "      <td>23</td>\n",
       "      <td>200000.0</td>\n",
       "      <td>110000.00</td>\n",
       "      <td>200000.0</td>\n",
       "    </tr>\n",
       "    <tr>\n",
       "      <th>2</th>\n",
       "      <td>United States of America</td>\n",
       "      <td>25-34 years old</td>\n",
       "      <td>Hybrid (some remote, some in-person)</td>\n",
       "      <td>Bachelor’s degree (B.A., B.S., B.Eng., etc.)</td>\n",
       "      <td>7</td>\n",
       "      <td>156000.0</td>\n",
       "      <td>110000.00</td>\n",
       "      <td>200000.0</td>\n",
       "    </tr>\n",
       "    <tr>\n",
       "      <th>3</th>\n",
       "      <td>United Kingdom of Great Britain and Northern I...</td>\n",
       "      <td>35-44 years old</td>\n",
       "      <td>Remote</td>\n",
       "      <td>Some college/university study without earning ...</td>\n",
       "      <td>21</td>\n",
       "      <td>96828.0</td>\n",
       "      <td>59586.00</td>\n",
       "      <td>111724.0</td>\n",
       "    </tr>\n",
       "    <tr>\n",
       "      <th>4</th>\n",
       "      <td>United States of America</td>\n",
       "      <td>35-44 years old</td>\n",
       "      <td>Remote</td>\n",
       "      <td>Some college/university study without earning ...</td>\n",
       "      <td>3</td>\n",
       "      <td>135000.0</td>\n",
       "      <td>110000.00</td>\n",
       "      <td>200000.0</td>\n",
       "    </tr>\n",
       "    <tr>\n",
       "      <th>...</th>\n",
       "      <td>...</td>\n",
       "      <td>...</td>\n",
       "      <td>...</td>\n",
       "      <td>...</td>\n",
       "      <td>...</td>\n",
       "      <td>...</td>\n",
       "      <td>...</td>\n",
       "      <td>...</td>\n",
       "    </tr>\n",
       "    <tr>\n",
       "      <th>39150</th>\n",
       "      <td>Other</td>\n",
       "      <td>25-34 years old</td>\n",
       "      <td>Hybrid (some remote, some in-person)</td>\n",
       "      <td>Professional degree (JD, MD, Ph.D, Ed.D, etc.)</td>\n",
       "      <td>5</td>\n",
       "      <td>28625.0</td>\n",
       "      <td>18197.25</td>\n",
       "      <td>68611.0</td>\n",
       "    </tr>\n",
       "    <tr>\n",
       "      <th>39151</th>\n",
       "      <td>Brazil</td>\n",
       "      <td>35-44 years old</td>\n",
       "      <td>Remote</td>\n",
       "      <td>Master’s degree (M.A., M.S., M.Eng., MBA, etc.)</td>\n",
       "      <td>24</td>\n",
       "      <td>48690.0</td>\n",
       "      <td>17042.00</td>\n",
       "      <td>48690.0</td>\n",
       "    </tr>\n",
       "    <tr>\n",
       "      <th>39152</th>\n",
       "      <td>India</td>\n",
       "      <td>18-24 years old</td>\n",
       "      <td>Remote</td>\n",
       "      <td>Bachelor’s degree (B.A., B.S., B.Eng., etc.)</td>\n",
       "      <td>2</td>\n",
       "      <td>15752.0</td>\n",
       "      <td>8724.00</td>\n",
       "      <td>35139.0</td>\n",
       "    </tr>\n",
       "    <tr>\n",
       "      <th>39153</th>\n",
       "      <td>France</td>\n",
       "      <td>25-34 years old</td>\n",
       "      <td>Hybrid (some remote, some in-person)</td>\n",
       "      <td>Master’s degree (M.A., M.S., M.Eng., MBA, etc.)</td>\n",
       "      <td>9</td>\n",
       "      <td>64254.0</td>\n",
       "      <td>43907.00</td>\n",
       "      <td>71750.0</td>\n",
       "    </tr>\n",
       "    <tr>\n",
       "      <th>39154</th>\n",
       "      <td>Other</td>\n",
       "      <td>25-34 years old</td>\n",
       "      <td>In-person</td>\n",
       "      <td>Master’s degree (M.A., M.S., M.Eng., MBA, etc.)</td>\n",
       "      <td>9</td>\n",
       "      <td>61041.0</td>\n",
       "      <td>18197.25</td>\n",
       "      <td>68611.0</td>\n",
       "    </tr>\n",
       "  </tbody>\n",
       "</table>\n",
       "<p>39155 rows × 8 columns</p>\n",
       "</div>"
      ],
      "text/plain": [
       "                                                 Country              Age  \\\n",
       "0                               United States of America  25-34 years old   \n",
       "1                               United States of America  45-54 years old   \n",
       "2                               United States of America  25-34 years old   \n",
       "3      United Kingdom of Great Britain and Northern I...  35-44 years old   \n",
       "4                               United States of America  35-44 years old   \n",
       "...                                                  ...              ...   \n",
       "39150                                              Other  25-34 years old   \n",
       "39151                                             Brazil  35-44 years old   \n",
       "39152                                              India  18-24 years old   \n",
       "39153                                             France  25-34 years old   \n",
       "39154                                              Other  25-34 years old   \n",
       "\n",
       "                                 RemoteWork  \\\n",
       "0                                    Remote   \n",
       "1      Hybrid (some remote, some in-person)   \n",
       "2      Hybrid (some remote, some in-person)   \n",
       "3                                    Remote   \n",
       "4                                    Remote   \n",
       "...                                     ...   \n",
       "39150  Hybrid (some remote, some in-person)   \n",
       "39151                                Remote   \n",
       "39152                                Remote   \n",
       "39153  Hybrid (some remote, some in-person)   \n",
       "39154                             In-person   \n",
       "\n",
       "                                                 EdLevel YearsCodePro  \\\n",
       "0           Bachelor’s degree (B.A., B.S., B.Eng., etc.)            9   \n",
       "1           Bachelor’s degree (B.A., B.S., B.Eng., etc.)           23   \n",
       "2           Bachelor’s degree (B.A., B.S., B.Eng., etc.)            7   \n",
       "3      Some college/university study without earning ...           21   \n",
       "4      Some college/university study without earning ...            3   \n",
       "...                                                  ...          ...   \n",
       "39150     Professional degree (JD, MD, Ph.D, Ed.D, etc.)            5   \n",
       "39151    Master’s degree (M.A., M.S., M.Eng., MBA, etc.)           24   \n",
       "39152       Bachelor’s degree (B.A., B.S., B.Eng., etc.)            2   \n",
       "39153    Master’s degree (M.A., M.S., M.Eng., MBA, etc.)            9   \n",
       "39154    Master’s degree (M.A., M.S., M.Eng., MBA, etc.)            9   \n",
       "\n",
       "         Salary        25%       75%  \n",
       "0      200000.0  110000.00  200000.0  \n",
       "1      200000.0  110000.00  200000.0  \n",
       "2      156000.0  110000.00  200000.0  \n",
       "3       96828.0   59586.00  111724.0  \n",
       "4      135000.0  110000.00  200000.0  \n",
       "...         ...        ...       ...  \n",
       "39150   28625.0   18197.25   68611.0  \n",
       "39151   48690.0   17042.00   48690.0  \n",
       "39152   15752.0    8724.00   35139.0  \n",
       "39153   64254.0   43907.00   71750.0  \n",
       "39154   61041.0   18197.25   68611.0  \n",
       "\n",
       "[39155 rows x 8 columns]"
      ]
     },
     "execution_count": 61,
     "metadata": {},
     "output_type": "execute_result"
    }
   ],
   "source": [
    "mask = df[\"Salary\"]<df['25%']\n",
    "df.loc[mask,\"Salary\"] = df[\"25%\"]\n",
    "\n",
    "mask = df[\"Salary\"]>df['75%']\n",
    "df.loc[mask,\"Salary\"] = df[\"75%\"]\n",
    "\n",
    "df"
   ]
  },
  {
   "cell_type": "code",
   "execution_count": 63,
   "metadata": {
    "execution": {
     "iopub.execute_input": "2023-07-25T16:38:34.477534Z",
     "iopub.status.busy": "2023-07-25T16:38:34.476755Z",
     "iopub.status.idle": "2023-07-25T16:38:34.870290Z",
     "shell.execute_reply": "2023-07-25T16:38:34.869695Z",
     "shell.execute_reply.started": "2023-07-25T16:38:34.477505Z"
    }
   },
   "outputs": [
    {
     "data": {
      "image/png": "[encoded data removed]",
      "text/plain": [
       "<Figure size 1200x700 with 1 Axes>"
      ]
     },
     "metadata": {},
     "output_type": "display_data"
    }
   ],
   "source": [
    "fig,ax = plt.subplots(1,1,figsize=(12,7))\n",
    "plt.ticklabel_format(style = 'plain')\n",
    "\n",
    "df.boxplot(\"Salary\",\"Country\",ax=ax)\n",
    "plt.suptitle(\"Salary USD v Country\")\n",
    "plt.title('')\n",
    "plt.ylabel(\"Salary\")\n",
    "plt.xticks(rotation=90)\n",
    "\n",
    "plt.show()"
   ]
  },
  {
   "cell_type": "code",
   "execution_count": 64,
   "metadata": {
    "execution": {
     "iopub.execute_input": "2023-07-25T16:38:34.871752Z",
     "iopub.status.busy": "2023-07-25T16:38:34.871341Z",
     "iopub.status.idle": "2023-07-25T16:38:34.877844Z",
     "shell.execute_reply": "2023-07-25T16:38:34.877028Z",
     "shell.execute_reply.started": "2023-07-25T16:38:34.871730Z"
    }
   },
   "outputs": [],
   "source": [
    "df.drop(['25%','75%'],axis=1,inplace=True)"
   ]
  },
  {
   "cell_type": "markdown",
   "metadata": {},
   "source": [
    "Let us create Age Bands."
   ]
  },
  {
   "cell_type": "code",
   "execution_count": 65,
   "metadata": {
    "execution": {
     "iopub.execute_input": "2023-07-25T16:38:34.879189Z",
     "iopub.status.busy": "2023-07-25T16:38:34.878986Z",
     "iopub.status.idle": "2023-07-25T16:38:34.892516Z",
     "shell.execute_reply": "2023-07-25T16:38:34.891636Z",
     "shell.execute_reply.started": "2023-07-25T16:38:34.879171Z"
    }
   },
   "outputs": [
    {
     "data": {
      "text/plain": [
       "array(['25-34 years old', '45-54 years old', '35-44 years old',\n",
       "       'Under 18 years old', '55-64 years old', '18-24 years old',\n",
       "       '65 years or older', 'Prefer not to say'], dtype=object)"
      ]
     },
     "execution_count": 65,
     "metadata": {},
     "output_type": "execute_result"
    }
   ],
   "source": [
    "df[\"Age\"].unique()"
   ]
  },
  {
   "cell_type": "code",
   "execution_count": 66,
   "metadata": {
    "execution": {
     "iopub.execute_input": "2023-07-25T16:38:34.893778Z",
     "iopub.status.busy": "2023-07-25T16:38:34.893528Z",
     "iopub.status.idle": "2023-07-25T16:38:34.922134Z",
     "shell.execute_reply": "2023-07-25T16:38:34.921276Z",
     "shell.execute_reply.started": "2023-07-25T16:38:34.893756Z"
    }
   },
   "outputs": [
    {
     "data": {
      "text/plain": [
       "25    18633\n",
       "35    11096\n",
       "18     4128\n",
       "45     3726\n",
       "55     1340\n",
       "65      186\n",
       "17       27\n",
       "0        19\n",
       "Name: Age, dtype: int64"
      ]
     },
     "execution_count": 66,
     "metadata": {},
     "output_type": "execute_result"
    }
   ],
   "source": [
    "def cleaned_age(x):\n",
    "    if x == \"45-54 years old\":\n",
    "        return 45\n",
    "    if x == '25-34 years old':\n",
    "        return 25\n",
    "    if x == '35-44 years old':\n",
    "        return 35\n",
    "    if x == '55-64 years old':\n",
    "        return 55\n",
    "    if x == '18-24 years old':\n",
    "        return 18\n",
    "    if x == '65 years or older':\n",
    "        return 65\n",
    "    if x == 'Prefer not to say':\n",
    "        return 0\n",
    "    if x == 'Under 18 years old':\n",
    "        return 17\n",
    "\n",
    "df[\"Age\"] = df[\"Age\"].apply(cleaned_age)\n",
    "\n",
    "df[\"Age\"].value_counts()"
   ]
  },
  {
   "cell_type": "code",
   "execution_count": 67,
   "metadata": {
    "execution": {
     "iopub.execute_input": "2023-07-25T16:38:34.923357Z",
     "iopub.status.busy": "2023-07-25T16:38:34.923123Z",
     "iopub.status.idle": "2023-07-25T16:38:34.935148Z",
     "shell.execute_reply": "2023-07-25T16:38:34.934342Z",
     "shell.execute_reply.started": "2023-07-25T16:38:34.923337Z"
    }
   },
   "outputs": [
    {
     "data": {
      "text/plain": [
       "25    18633\n",
       "35    11096\n",
       "18     4128\n",
       "45     3726\n",
       "55     1340\n",
       "65      186\n",
       "17       27\n",
       "Name: Age, dtype: int64"
      ]
     },
     "execution_count": 67,
     "metadata": {},
     "output_type": "execute_result"
    }
   ],
   "source": [
    "df = df[df[\"Age\"]!= 0]\n",
    "\n",
    "df[\"Age\"].value_counts()"
   ]
  },
  {
   "cell_type": "markdown",
   "metadata": {},
   "source": [
    "Do similar feature engineering on YearsCodePro column and Edlevel as well."
   ]
  },
  {
   "cell_type": "code",
   "execution_count": 68,
   "metadata": {
    "execution": {
     "iopub.execute_input": "2023-07-25T16:38:34.939964Z",
     "iopub.status.busy": "2023-07-25T16:38:34.939726Z",
     "iopub.status.idle": "2023-07-25T16:38:34.946940Z",
     "shell.execute_reply": "2023-07-25T16:38:34.946357Z",
     "shell.execute_reply.started": "2023-07-25T16:38:34.939944Z"
    }
   },
   "outputs": [
    {
     "data": {
      "text/plain": [
       "array(['9', '23', '7', '21', '3', '15', 'Less than 1 year', '10', '2',\n",
       "       '6', '14', '5', '19', '13', '4', '16', '28', '11', '8', '24', '17',\n",
       "       '29', '25', '12', '20', '18', '30', '27', '43', '1', '38', '33',\n",
       "       '22', '40', '34', '42', '26', '31', '36', '39', '32', '44', '37',\n",
       "       '35', '48', 'More than 50 years', '45', '41', '50', '46', '49',\n",
       "       '47'], dtype=object)"
      ]
     },
     "execution_count": 68,
     "metadata": {},
     "output_type": "execute_result"
    }
   ],
   "source": [
    "df[\"YearsCodePro\"].unique()"
   ]
  },
  {
   "cell_type": "code",
   "execution_count": 69,
   "metadata": {
    "execution": {
     "iopub.execute_input": "2023-07-25T16:38:34.948488Z",
     "iopub.status.busy": "2023-07-25T16:38:34.947826Z",
     "iopub.status.idle": "2023-07-25T16:38:34.976473Z",
     "shell.execute_reply": "2023-07-25T16:38:34.975449Z",
     "shell.execute_reply.started": "2023-07-25T16:38:34.948465Z"
    }
   },
   "outputs": [
    {
     "data": {
      "text/plain": [
       "array([ 9. , 23. ,  7. , 21. ,  3. , 15. ,  0.5, 10. ,  2. ,  6. , 14. ,\n",
       "        5. , 19. , 13. ,  4. , 16. , 28. , 11. ,  8. , 24. , 17. , 29. ,\n",
       "       25. , 12. , 20. , 18. , 30. , 27. , 43. ,  1. , 38. , 33. , 22. ,\n",
       "       40. , 34. , 42. , 26. , 31. , 36. , 39. , 32. , 44. , 37. , 35. ,\n",
       "       48. , 50. , 45. , 41. , 46. , 49. , 47. ])"
      ]
     },
     "execution_count": 69,
     "metadata": {},
     "output_type": "execute_result"
    }
   ],
   "source": [
    "def cleaned_exp(x):\n",
    "    if x == \"More than 50 years\":\n",
    "        return 50\n",
    "    if x == 'Less than 1 year':\n",
    "        return 0.5\n",
    "    return float(x)\n",
    "\n",
    "df[\"YearsCodePro\"] = df[\"YearsCodePro\"].apply(cleaned_exp)\n",
    "\n",
    "df[\"YearsCodePro\"].unique()"
   ]
  },
  {
   "cell_type": "code",
   "execution_count": 70,
   "metadata": {
    "execution": {
     "iopub.execute_input": "2023-07-25T16:38:34.977832Z",
     "iopub.status.busy": "2023-07-25T16:38:34.977536Z",
     "iopub.status.idle": "2023-07-25T16:38:34.990121Z",
     "shell.execute_reply": "2023-07-25T16:38:34.989165Z",
     "shell.execute_reply.started": "2023-07-25T16:38:34.977805Z"
    }
   },
   "outputs": [
    {
     "data": {
      "text/plain": [
       "array(['Bachelor’s degree (B.A., B.S., B.Eng., etc.)',\n",
       "       'Some college/university study without earning a degree',\n",
       "       'Master’s degree (M.A., M.S., M.Eng., MBA, etc.)',\n",
       "       'Primary/elementary school',\n",
       "       'Professional degree (JD, MD, Ph.D, Ed.D, etc.)',\n",
       "       'Associate degree (A.A., A.S., etc.)',\n",
       "       'Secondary school (e.g. American high school, German Realschule or Gymnasium, etc.)',\n",
       "       'Something else'], dtype=object)"
      ]
     },
     "execution_count": 70,
     "metadata": {},
     "output_type": "execute_result"
    }
   ],
   "source": [
    "df[\"EdLevel\"].unique()"
   ]
  },
  {
   "cell_type": "code",
   "execution_count": 71,
   "metadata": {
    "execution": {
     "iopub.execute_input": "2023-07-25T16:38:34.991583Z",
     "iopub.status.busy": "2023-07-25T16:38:34.991316Z",
     "iopub.status.idle": "2023-07-25T16:38:35.014446Z",
     "shell.execute_reply": "2023-07-25T16:38:35.013589Z",
     "shell.execute_reply.started": "2023-07-25T16:38:34.991557Z"
    }
   },
   "outputs": [
    {
     "data": {
      "text/plain": [
       "array(['Bachelor’s degree', 'Less than a Bachelors', 'Master’s degree',\n",
       "       'Professional degree'], dtype=object)"
      ]
     },
     "execution_count": 71,
     "metadata": {},
     "output_type": "execute_result"
    }
   ],
   "source": [
    "def cleaned_edu(x):\n",
    "    if 'Bachelor’s degree' in x:\n",
    "        return 'Bachelor’s degree'\n",
    "    if 'Master’s degree' in x:\n",
    "        return 'Master’s degree'\n",
    "    if 'Professional degree' in x:\n",
    "        return 'Professional degree'\n",
    "    return 'Less than a Bachelors'\n",
    "\n",
    "df[\"EdLevel\"] = df[\"EdLevel\"].apply(cleaned_edu)\n",
    "\n",
    "df[\"EdLevel\"].unique()"
   ]
  },
  {
   "cell_type": "markdown",
   "metadata": {},
   "source": [
    "LabelEncode the Categorical Columns."
   ]
  },
  {
   "cell_type": "code",
   "execution_count": 72,
   "metadata": {
    "execution": {
     "iopub.execute_input": "2023-07-25T16:38:35.015958Z",
     "iopub.status.busy": "2023-07-25T16:38:35.015709Z",
     "iopub.status.idle": "2023-07-25T16:38:35.024199Z",
     "shell.execute_reply": "2023-07-25T16:38:35.023422Z",
     "shell.execute_reply.started": "2023-07-25T16:38:35.015937Z"
    }
   },
   "outputs": [
    {
     "data": {
      "text/plain": [
       "array(['Remote', 'Hybrid (some remote, some in-person)', 'In-person'],\n",
       "      dtype=object)"
      ]
     },
     "execution_count": 72,
     "metadata": {},
     "output_type": "execute_result"
    }
   ],
   "source": [
    "df[\"RemoteWork\"].unique()"
   ]
  },
  {
   "cell_type": "code",
   "execution_count": 73,
   "metadata": {
    "execution": {
     "iopub.execute_input": "2023-07-25T16:38:35.025716Z",
     "iopub.status.busy": "2023-07-25T16:38:35.025509Z",
     "iopub.status.idle": "2023-07-25T16:38:35.350559Z",
     "shell.execute_reply": "2023-07-25T16:38:35.349591Z",
     "shell.execute_reply.started": "2023-07-25T16:38:35.025697Z"
    }
   },
   "outputs": [
    {
     "data": {
      "text/html": [
       "<div>\n",
       "<style scoped>\n",
       "    .dataframe tbody tr th:only-of-type {\n",
       "        vertical-align: middle;\n",
       "    }\n",
       "\n",
       "    .dataframe tbody tr th {\n",
       "        vertical-align: top;\n",
       "    }\n",
       "\n",
       "    .dataframe thead th {\n",
       "        text-align: right;\n",
       "    }\n",
       "</style>\n",
       "<table border=\"1\" class=\"dataframe\">\n",
       "  <thead>\n",
       "    <tr style=\"text-align: right;\">\n",
       "      <th></th>\n",
       "      <th>Country</th>\n",
       "      <th>Age</th>\n",
       "      <th>RemoteWork</th>\n",
       "      <th>EdLevel</th>\n",
       "      <th>YearsCodePro</th>\n",
       "      <th>Salary</th>\n",
       "    </tr>\n",
       "  </thead>\n",
       "  <tbody>\n",
       "    <tr>\n",
       "      <th>0</th>\n",
       "      <td>17</td>\n",
       "      <td>25</td>\n",
       "      <td>2</td>\n",
       "      <td>0</td>\n",
       "      <td>9.0</td>\n",
       "      <td>200000.0</td>\n",
       "    </tr>\n",
       "    <tr>\n",
       "      <th>1</th>\n",
       "      <td>17</td>\n",
       "      <td>45</td>\n",
       "      <td>0</td>\n",
       "      <td>0</td>\n",
       "      <td>23.0</td>\n",
       "      <td>200000.0</td>\n",
       "    </tr>\n",
       "    <tr>\n",
       "      <th>2</th>\n",
       "      <td>17</td>\n",
       "      <td>25</td>\n",
       "      <td>0</td>\n",
       "      <td>0</td>\n",
       "      <td>7.0</td>\n",
       "      <td>156000.0</td>\n",
       "    </tr>\n",
       "    <tr>\n",
       "      <th>3</th>\n",
       "      <td>16</td>\n",
       "      <td>35</td>\n",
       "      <td>2</td>\n",
       "      <td>1</td>\n",
       "      <td>21.0</td>\n",
       "      <td>96828.0</td>\n",
       "    </tr>\n",
       "    <tr>\n",
       "      <th>4</th>\n",
       "      <td>17</td>\n",
       "      <td>35</td>\n",
       "      <td>2</td>\n",
       "      <td>1</td>\n",
       "      <td>3.0</td>\n",
       "      <td>135000.0</td>\n",
       "    </tr>\n",
       "    <tr>\n",
       "      <th>...</th>\n",
       "      <td>...</td>\n",
       "      <td>...</td>\n",
       "      <td>...</td>\n",
       "      <td>...</td>\n",
       "      <td>...</td>\n",
       "      <td>...</td>\n",
       "    </tr>\n",
       "    <tr>\n",
       "      <th>39150</th>\n",
       "      <td>11</td>\n",
       "      <td>25</td>\n",
       "      <td>0</td>\n",
       "      <td>3</td>\n",
       "      <td>5.0</td>\n",
       "      <td>28625.0</td>\n",
       "    </tr>\n",
       "    <tr>\n",
       "      <th>39151</th>\n",
       "      <td>1</td>\n",
       "      <td>35</td>\n",
       "      <td>2</td>\n",
       "      <td>2</td>\n",
       "      <td>24.0</td>\n",
       "      <td>48690.0</td>\n",
       "    </tr>\n",
       "    <tr>\n",
       "      <th>39152</th>\n",
       "      <td>6</td>\n",
       "      <td>18</td>\n",
       "      <td>2</td>\n",
       "      <td>0</td>\n",
       "      <td>2.0</td>\n",
       "      <td>15752.0</td>\n",
       "    </tr>\n",
       "    <tr>\n",
       "      <th>39153</th>\n",
       "      <td>4</td>\n",
       "      <td>25</td>\n",
       "      <td>0</td>\n",
       "      <td>2</td>\n",
       "      <td>9.0</td>\n",
       "      <td>64254.0</td>\n",
       "    </tr>\n",
       "    <tr>\n",
       "      <th>39154</th>\n",
       "      <td>11</td>\n",
       "      <td>25</td>\n",
       "      <td>1</td>\n",
       "      <td>2</td>\n",
       "      <td>9.0</td>\n",
       "      <td>61041.0</td>\n",
       "    </tr>\n",
       "  </tbody>\n",
       "</table>\n",
       "<p>39136 rows × 6 columns</p>\n",
       "</div>"
      ],
      "text/plain": [
       "       Country  Age  RemoteWork  EdLevel  YearsCodePro    Salary\n",
       "0           17   25           2        0           9.0  200000.0\n",
       "1           17   45           0        0          23.0  200000.0\n",
       "2           17   25           0        0           7.0  156000.0\n",
       "3           16   35           2        1          21.0   96828.0\n",
       "4           17   35           2        1           3.0  135000.0\n",
       "...        ...  ...         ...      ...           ...       ...\n",
       "39150       11   25           0        3           5.0   28625.0\n",
       "39151        1   35           2        2          24.0   48690.0\n",
       "39152        6   18           2        0           2.0   15752.0\n",
       "39153        4   25           0        2           9.0   64254.0\n",
       "39154       11   25           1        2           9.0   61041.0\n",
       "\n",
       "[39136 rows x 6 columns]"
      ]
     },
     "execution_count": 73,
     "metadata": {},
     "output_type": "execute_result"
    }
   ],
   "source": [
    "from sklearn.preprocessing import LabelEncoder\n",
    "le_edu = LabelEncoder()\n",
    "df[\"EdLevel\"] = le_edu.fit_transform(df[\"EdLevel\"])\n",
    "\n",
    "\n",
    "le_coun = LabelEncoder()\n",
    "df[\"Country\"] = le_coun.fit_transform(df[\"Country\"])\n",
    "\n",
    "le_remote = LabelEncoder()\n",
    "df[\"RemoteWork\"] = le_remote.fit_transform(df[\"RemoteWork\"])\n",
    "\n",
    "df"
   ]
  },
  {
   "cell_type": "markdown",
   "metadata": {},
   "source": [
    "### **Model Development**"
   ]
  },
  {
   "cell_type": "code",
   "execution_count": 74,
   "metadata": {
    "execution": {
     "iopub.execute_input": "2023-07-25T16:38:35.352147Z",
     "iopub.status.busy": "2023-07-25T16:38:35.351803Z",
     "iopub.status.idle": "2023-07-25T16:38:35.359475Z",
     "shell.execute_reply": "2023-07-25T16:38:35.358439Z",
     "shell.execute_reply.started": "2023-07-25T16:38:35.352117Z"
    }
   },
   "outputs": [],
   "source": [
    "#splitting the feature and target columns\n",
    "X = df.iloc[:,:-1]\n",
    "y = df[\"Salary\"]"
   ]
  },
  {
   "cell_type": "code",
   "execution_count": 75,
   "metadata": {
    "execution": {
     "iopub.execute_input": "2023-07-25T16:38:35.361122Z",
     "iopub.status.busy": "2023-07-25T16:38:35.360783Z",
     "iopub.status.idle": "2023-07-25T16:38:35.458102Z",
     "shell.execute_reply": "2023-07-25T16:38:35.457196Z",
     "shell.execute_reply.started": "2023-07-25T16:38:35.361091Z"
    }
   },
   "outputs": [],
   "source": [
    "#Scaling the data and splitting train and test data\n",
    "from sklearn.preprocessing import MinMaxScaler\n",
    "from sklearn.model_selection import train_test_split\n",
    "\n",
    "mm = MinMaxScaler()\n",
    "X = mm.fit_transform(X)\n",
    "\n",
    "X_train,X_test,y_train,y_test = train_test_split(X,y,test_size=0.3,random_state=1)"
   ]
  },
  {
   "cell_type": "markdown",
   "metadata": {},
   "source": [
    "#### **Model1 - LinearRegression**"
   ]
  },
  {
   "cell_type": "code",
   "execution_count": 76,
   "metadata": {
    "execution": {
     "iopub.execute_input": "2023-07-25T16:38:35.459744Z",
     "iopub.status.busy": "2023-07-25T16:38:35.459365Z",
     "iopub.status.idle": "2023-07-25T16:38:35.574407Z",
     "shell.execute_reply": "2023-07-25T16:38:35.573721Z",
     "shell.execute_reply.started": "2023-07-25T16:38:35.459711Z"
    }
   },
   "outputs": [
    {
     "name": "stdout",
     "output_type": "stream",
     "text": [
      "Mean Absolute Error: 34764.135980700004\n",
      "Root Mean Squared Error: 42080.31589334795\n",
      "R2 Score: 0.335679044978899\n"
     ]
    }
   ],
   "source": [
    "from sklearn.linear_model import LinearRegression\n",
    "from sklearn.metrics import mean_absolute_error,r2_score,mean_squared_error\n",
    "lm = LinearRegression()\n",
    "lm.fit(X_train,y_train)\n",
    "\n",
    "y_pred = lm.predict(X_test)\n",
    "\n",
    "print(\"Mean Absolute Error:\",mean_absolute_error(y_test,y_pred))\n",
    "print(\"Root Mean Squared Error:\",np.sqrt(mean_squared_error(y_test,y_pred)))\n",
    "print(\"R2 Score:\",r2_score(y_test,y_pred))\n",
    "\n"
   ]
  },
  {
   "cell_type": "markdown",
   "metadata": {},
   "source": [
    "Mean Absolute Error: 34764.135980700004\n",
    "\n",
    "Root Mean Squared Error: 42080.31589334795\n",
    "\n",
    "R2 Score: 0.335679044978899"
   ]
  },
  {
   "cell_type": "markdown",
   "metadata": {},
   "source": [
    "#### **Model2 - DecisionTreeRegressor**"
   ]
  },
  {
   "cell_type": "code",
   "execution_count": 77,
   "metadata": {
    "execution": {
     "iopub.execute_input": "2023-07-25T16:38:35.576487Z",
     "iopub.status.busy": "2023-07-25T16:38:35.575365Z",
     "iopub.status.idle": "2023-07-25T16:38:35.762335Z",
     "shell.execute_reply": "2023-07-25T16:38:35.761712Z",
     "shell.execute_reply.started": "2023-07-25T16:38:35.576458Z"
    }
   },
   "outputs": [
    {
     "name": "stdout",
     "output_type": "stream",
     "text": [
      "Mean Absolute Error: 17128.382402538115\n",
      "Root Mean Squared Error: 23190.942482054088\n",
      "R2 Score: 0.7982299197986444\n"
     ]
    }
   ],
   "source": [
    "from sklearn.tree import DecisionTreeRegressor\n",
    "\n",
    "dt = DecisionTreeRegressor(random_state=1)\n",
    "dt.fit(X_train,y_train)\n",
    "\n",
    "y_pred = dt.predict(X_test)\n",
    "\n",
    "print(\"Mean Absolute Error:\",mean_absolute_error(y_test,y_pred))\n",
    "print(\"Root Mean Squared Error:\",np.sqrt(mean_squared_error(y_test,y_pred)))\n",
    "print(\"R2 Score:\",r2_score(y_test,y_pred))\n"
   ]
  },
  {
   "cell_type": "markdown",
   "metadata": {},
   "source": [
    "Mean Absolute Error: 17128.382402538115\n",
    "\n",
    "Root Mean Squared Error: 23190.942482054088\n",
    "\n",
    "R2 Score: 0.7982299197986444"
   ]
  },
  {
   "cell_type": "markdown",
   "metadata": {},
   "source": [
    "#### **Model3 - RandomForestRegressor**"
   ]
  },
  {
   "cell_type": "code",
   "execution_count": 78,
   "metadata": {
    "execution": {
     "iopub.execute_input": "2023-07-25T16:38:35.763859Z",
     "iopub.status.busy": "2023-07-25T16:38:35.763627Z",
     "iopub.status.idle": "2023-07-25T16:38:38.385258Z",
     "shell.execute_reply": "2023-07-25T16:38:38.384650Z",
     "shell.execute_reply.started": "2023-07-25T16:38:35.763836Z"
    }
   },
   "outputs": [
    {
     "name": "stdout",
     "output_type": "stream",
     "text": [
      "Mean Absolute Error: 16799.76533986574\n",
      "Root Mean Squared Error: 22297.90246378704\n",
      "R2 Score: 0.813470299915464\n"
     ]
    }
   ],
   "source": [
    "from sklearn.ensemble import RandomForestRegressor\n",
    "\n",
    "rf = RandomForestRegressor(random_state=1)\n",
    "rf.fit(X_train,y_train)\n",
    "\n",
    "y_pred = rf.predict(X_test)\n",
    "\n",
    "print(\"Mean Absolute Error:\",mean_absolute_error(y_test,y_pred))\n",
    "print(\"Root Mean Squared Error:\",np.sqrt(mean_squared_error(y_test,y_pred)))\n",
    "print(\"R2 Score:\",r2_score(y_test,y_pred))\n"
   ]
  },
  {
   "cell_type": "markdown",
   "metadata": {},
   "source": [
    "Mean Absolute Error: 16799.76533986574\n",
    "\n",
    "Root Mean Squared Error: 22297.90246378704\n",
    "\n",
    "R2 Score: 0.813470299915464"
   ]
  },
  {
   "cell_type": "markdown",
   "metadata": {},
   "source": [
    "### **Hyper Parameter Tuning**"
   ]
  },
  {
   "cell_type": "code",
   "execution_count": 79,
   "metadata": {
    "execution": {
     "iopub.execute_input": "2023-07-25T16:38:38.386595Z",
     "iopub.status.busy": "2023-07-25T16:38:38.386256Z",
     "iopub.status.idle": "2023-07-25T16:39:23.402728Z",
     "shell.execute_reply": "2023-07-25T16:39:23.401594Z",
     "shell.execute_reply.started": "2023-07-25T16:38:38.386566Z"
    }
   },
   "outputs": [
    {
     "data": {
      "text/html": [
       "<style>#sk-container-id-1 {color: black;background-color: white;}#sk-container-id-1 pre{padding: 0;}#sk-container-id-1 div.sk-toggleable {background-color: white;}#sk-container-id-1 label.sk-toggleable__label {cursor: pointer;display: block;width: 100%;margin-bottom: 0;padding: 0.3em;box-sizing: border-box;text-align: center;}#sk-container-id-1 label.sk-toggleable__label-arrow:before {content: \"▸\";float: left;margin-right: 0.25em;color: #696969;}#sk-container-id-1 label.sk-toggleable__label-arrow:hover:before {color: black;}#sk-container-id-1 div.sk-estimator:hover label.sk-toggleable__label-arrow:before {color: black;}#sk-container-id-1 div.sk-toggleable__content {max-height: 0;max-width: 0;overflow: hidden;text-align: left;background-color: #f0f8ff;}#sk-container-id-1 div.sk-toggleable__content pre {margin: 0.2em;color: black;border-radius: 0.25em;background-color: #f0f8ff;}#sk-container-id-1 input.sk-toggleable__control:checked~div.sk-toggleable__content {max-height: 200px;max-width: 100%;overflow: auto;}#sk-container-id-1 input.sk-toggleable__control:checked~label.sk-toggleable__label-arrow:before {content: \"▾\";}#sk-container-id-1 div.sk-estimator input.sk-toggleable__control:checked~label.sk-toggleable__label {background-color: #d4ebff;}#sk-container-id-1 div.sk-label input.sk-toggleable__control:checked~label.sk-toggleable__label {background-color: #d4ebff;}#sk-container-id-1 input.sk-hidden--visually {border: 0;clip: rect(1px 1px 1px 1px);clip: rect(1px, 1px, 1px, 1px);height: 1px;margin: -1px;overflow: hidden;padding: 0;position: absolute;width: 1px;}#sk-container-id-1 div.sk-estimator {font-family: monospace;background-color: #f0f8ff;border: 1px dotted black;border-radius: 0.25em;box-sizing: border-box;margin-bottom: 0.5em;}#sk-container-id-1 div.sk-estimator:hover {background-color: #d4ebff;}#sk-container-id-1 div.sk-parallel-item::after {content: \"\";width: 100%;border-bottom: 1px solid gray;flex-grow: 1;}#sk-container-id-1 div.sk-label:hover label.sk-toggleable__label {background-color: #d4ebff;}#sk-container-id-1 div.sk-serial::before {content: \"\";position: absolute;border-left: 1px solid gray;box-sizing: border-box;top: 0;bottom: 0;left: 50%;z-index: 0;}#sk-container-id-1 div.sk-serial {display: flex;flex-direction: column;align-items: center;background-color: white;padding-right: 0.2em;padding-left: 0.2em;position: relative;}#sk-container-id-1 div.sk-item {position: relative;z-index: 1;}#sk-container-id-1 div.sk-parallel {display: flex;align-items: stretch;justify-content: center;background-color: white;position: relative;}#sk-container-id-1 div.sk-item::before, #sk-container-id-1 div.sk-parallel-item::before {content: \"\";position: absolute;border-left: 1px solid gray;box-sizing: border-box;top: 0;bottom: 0;left: 50%;z-index: -1;}#sk-container-id-1 div.sk-parallel-item {display: flex;flex-direction: column;z-index: 1;position: relative;background-color: white;}#sk-container-id-1 div.sk-parallel-item:first-child::after {align-self: flex-end;width: 50%;}#sk-container-id-1 div.sk-parallel-item:last-child::after {align-self: flex-start;width: 50%;}#sk-container-id-1 div.sk-parallel-item:only-child::after {width: 0;}#sk-container-id-1 div.sk-dashed-wrapped {border: 1px dashed gray;margin: 0 0.4em 0.5em 0.4em;box-sizing: border-box;padding-bottom: 0.4em;background-color: white;}#sk-container-id-1 div.sk-label label {font-family: monospace;font-weight: bold;display: inline-block;line-height: 1.2em;}#sk-container-id-1 div.sk-label-container {text-align: center;}#sk-container-id-1 div.sk-container {/* jupyter's `normalize.less` sets `[hidden] { display: none; }` but bootstrap.min.css set `[hidden] { display: none !important; }` so we also need the `!important` here to be able to override the default hidden behavior on the sphinx rendered scikit-learn.org. See: https://github.com/scikit-learn/scikit-learn/issues/21755 */display: inline-block !important;position: relative;}#sk-container-id-1 div.sk-text-repr-fallback {display: none;}</style><div id=\"sk-container-id-1\" class=\"sk-top-container\"><div class=\"sk-text-repr-fallback\"><pre>GridSearchCV(estimator=RandomForestRegressor(random_state=0),\n",
       "             param_grid={&#x27;max_depth&#x27;: [None, 2, 4, 6, 8, 10, 12]},\n",
       "             scoring=&#x27;neg_mean_squared_error&#x27;)</pre><b>In a Jupyter environment, please rerun this cell to show the HTML representation or trust the notebook. <br />On GitHub, the HTML representation is unable to render, please try loading this page with nbviewer.org.</b></div><div class=\"sk-container\" hidden><div class=\"sk-item sk-dashed-wrapped\"><div class=\"sk-label-container\"><div class=\"sk-label sk-toggleable\"><input class=\"sk-toggleable__control sk-hidden--visually\" id=\"sk-estimator-id-1\" type=\"checkbox\" ><label for=\"sk-estimator-id-1\" class=\"sk-toggleable__label sk-toggleable__label-arrow\">GridSearchCV</label><div class=\"sk-toggleable__content\"><pre>GridSearchCV(estimator=RandomForestRegressor(random_state=0),\n",
       "             param_grid={&#x27;max_depth&#x27;: [None, 2, 4, 6, 8, 10, 12]},\n",
       "             scoring=&#x27;neg_mean_squared_error&#x27;)</pre></div></div></div><div class=\"sk-parallel\"><div class=\"sk-parallel-item\"><div class=\"sk-item\"><div class=\"sk-label-container\"><div class=\"sk-label sk-toggleable\"><input class=\"sk-toggleable__control sk-hidden--visually\" id=\"sk-estimator-id-2\" type=\"checkbox\" ><label for=\"sk-estimator-id-2\" class=\"sk-toggleable__label sk-toggleable__label-arrow\">estimator: RandomForestRegressor</label><div class=\"sk-toggleable__content\"><pre>RandomForestRegressor(random_state=0)</pre></div></div></div><div class=\"sk-serial\"><div class=\"sk-item\"><div class=\"sk-estimator sk-toggleable\"><input class=\"sk-toggleable__control sk-hidden--visually\" id=\"sk-estimator-id-3\" type=\"checkbox\" ><label for=\"sk-estimator-id-3\" class=\"sk-toggleable__label sk-toggleable__label-arrow\">RandomForestRegressor</label><div class=\"sk-toggleable__content\"><pre>RandomForestRegressor(random_state=0)</pre></div></div></div></div></div></div></div></div></div></div>"
      ],
      "text/plain": [
       "GridSearchCV(estimator=RandomForestRegressor(random_state=0),\n",
       "             param_grid={'max_depth': [None, 2, 4, 6, 8, 10, 12]},\n",
       "             scoring='neg_mean_squared_error')"
      ]
     },
     "execution_count": 79,
     "metadata": {},
     "output_type": "execute_result"
    }
   ],
   "source": [
    "from sklearn.model_selection import GridSearchCV\n",
    "max_depth = [None, 2,4,6,8,10,12]\n",
    "parameters = {\"max_depth\": max_depth}\n",
    "\n",
    "regressor = RandomForestRegressor(random_state=0)\n",
    "gs = GridSearchCV(regressor, parameters, scoring='neg_mean_squared_error')\n",
    "gs.fit(X_train, y_train)"
   ]
  },
  {
   "cell_type": "code",
   "execution_count": 80,
   "metadata": {
    "execution": {
     "iopub.execute_input": "2023-07-25T16:39:23.404424Z",
     "iopub.status.busy": "2023-07-25T16:39:23.404100Z",
     "iopub.status.idle": "2023-07-25T16:39:25.204583Z",
     "shell.execute_reply": "2023-07-25T16:39:25.203996Z",
     "shell.execute_reply.started": "2023-07-25T16:39:23.404373Z"
    }
   },
   "outputs": [
    {
     "name": "stdout",
     "output_type": "stream",
     "text": [
      "R2 Score 0.8272327129967889\n",
      "$21,459.56\n"
     ]
    }
   ],
   "source": [
    "regressor = gs.best_estimator_\n",
    "\n",
    "regressor.fit(X_train, y_train)\n",
    "y_pred = regressor.predict(X_test)\n",
    "error = np.sqrt(mean_squared_error(y_test, y_pred))\n",
    "print(\"R2 Score\",r2_score(y_test,y_pred))\n",
    "print(\"${:,.02f}\".format(error))"
   ]
  },
  {
   "cell_type": "markdown",
   "metadata": {},
   "source": [
    "R2 Score - 0.8272327129967889\n",
    "\n",
    "Mean Squared Error - $21,459.56"
   ]
  },
  {
   "cell_type": "code",
   "execution_count": 81,
   "metadata": {
    "execution": {
     "iopub.execute_input": "2023-07-25T16:39:25.206001Z",
     "iopub.status.busy": "2023-07-25T16:39:25.205755Z",
     "iopub.status.idle": "2023-07-25T16:39:25.897286Z",
     "shell.execute_reply": "2023-07-25T16:39:25.896152Z",
     "shell.execute_reply.started": "2023-07-25T16:39:25.205977Z"
    }
   },
   "outputs": [
    {
     "data": {
      "text/html": [
       "<style>#sk-container-id-2 {color: black;background-color: white;}#sk-container-id-2 pre{padding: 0;}#sk-container-id-2 div.sk-toggleable {background-color: white;}#sk-container-id-2 label.sk-toggleable__label {cursor: pointer;display: block;width: 100%;margin-bottom: 0;padding: 0.3em;box-sizing: border-box;text-align: center;}#sk-container-id-2 label.sk-toggleable__label-arrow:before {content: \"▸\";float: left;margin-right: 0.25em;color: #696969;}#sk-container-id-2 label.sk-toggleable__label-arrow:hover:before {color: black;}#sk-container-id-2 div.sk-estimator:hover label.sk-toggleable__label-arrow:before {color: black;}#sk-container-id-2 div.sk-toggleable__content {max-height: 0;max-width: 0;overflow: hidden;text-align: left;background-color: #f0f8ff;}#sk-container-id-2 div.sk-toggleable__content pre {margin: 0.2em;color: black;border-radius: 0.25em;background-color: #f0f8ff;}#sk-container-id-2 input.sk-toggleable__control:checked~div.sk-toggleable__content {max-height: 200px;max-width: 100%;overflow: auto;}#sk-container-id-2 input.sk-toggleable__control:checked~label.sk-toggleable__label-arrow:before {content: \"▾\";}#sk-container-id-2 div.sk-estimator input.sk-toggleable__control:checked~label.sk-toggleable__label {background-color: #d4ebff;}#sk-container-id-2 div.sk-label input.sk-toggleable__control:checked~label.sk-toggleable__label {background-color: #d4ebff;}#sk-container-id-2 input.sk-hidden--visually {border: 0;clip: rect(1px 1px 1px 1px);clip: rect(1px, 1px, 1px, 1px);height: 1px;margin: -1px;overflow: hidden;padding: 0;position: absolute;width: 1px;}#sk-container-id-2 div.sk-estimator {font-family: monospace;background-color: #f0f8ff;border: 1px dotted black;border-radius: 0.25em;box-sizing: border-box;margin-bottom: 0.5em;}#sk-container-id-2 div.sk-estimator:hover {background-color: #d4ebff;}#sk-container-id-2 div.sk-parallel-item::after {content: \"\";width: 100%;border-bottom: 1px solid gray;flex-grow: 1;}#sk-container-id-2 div.sk-label:hover label.sk-toggleable__label {background-color: #d4ebff;}#sk-container-id-2 div.sk-serial::before {content: \"\";position: absolute;border-left: 1px solid gray;box-sizing: border-box;top: 0;bottom: 0;left: 50%;z-index: 0;}#sk-container-id-2 div.sk-serial {display: flex;flex-direction: column;align-items: center;background-color: white;padding-right: 0.2em;padding-left: 0.2em;position: relative;}#sk-container-id-2 div.sk-item {position: relative;z-index: 1;}#sk-container-id-2 div.sk-parallel {display: flex;align-items: stretch;justify-content: center;background-color: white;position: relative;}#sk-container-id-2 div.sk-item::before, #sk-container-id-2 div.sk-parallel-item::before {content: \"\";position: absolute;border-left: 1px solid gray;box-sizing: border-box;top: 0;bottom: 0;left: 50%;z-index: -1;}#sk-container-id-2 div.sk-parallel-item {display: flex;flex-direction: column;z-index: 1;position: relative;background-color: white;}#sk-container-id-2 div.sk-parallel-item:first-child::after {align-self: flex-end;width: 50%;}#sk-container-id-2 div.sk-parallel-item:last-child::after {align-self: flex-start;width: 50%;}#sk-container-id-2 div.sk-parallel-item:only-child::after {width: 0;}#sk-container-id-2 div.sk-dashed-wrapped {border: 1px dashed gray;margin: 0 0.4em 0.5em 0.4em;box-sizing: border-box;padding-bottom: 0.4em;background-color: white;}#sk-container-id-2 div.sk-label label {font-family: monospace;font-weight: bold;display: inline-block;line-height: 1.2em;}#sk-container-id-2 div.sk-label-container {text-align: center;}#sk-container-id-2 div.sk-container {/* jupyter's `normalize.less` sets `[hidden] { display: none; }` but bootstrap.min.css set `[hidden] { display: none !important; }` so we also need the `!important` here to be able to override the default hidden behavior on the sphinx rendered scikit-learn.org. See: https://github.com/scikit-learn/scikit-learn/issues/21755 */display: inline-block !important;position: relative;}#sk-container-id-2 div.sk-text-repr-fallback {display: none;}</style><div id=\"sk-container-id-2\" class=\"sk-top-container\"><div class=\"sk-text-repr-fallback\"><pre>GridSearchCV(estimator=DecisionTreeRegressor(random_state=0),\n",
       "             param_grid={&#x27;max_depth&#x27;: [None, 2, 4, 6, 8, 10, 12]},\n",
       "             scoring=&#x27;neg_mean_squared_error&#x27;)</pre><b>In a Jupyter environment, please rerun this cell to show the HTML representation or trust the notebook. <br />On GitHub, the HTML representation is unable to render, please try loading this page with nbviewer.org.</b></div><div class=\"sk-container\" hidden><div class=\"sk-item sk-dashed-wrapped\"><div class=\"sk-label-container\"><div class=\"sk-label sk-toggleable\"><input class=\"sk-toggleable__control sk-hidden--visually\" id=\"sk-estimator-id-4\" type=\"checkbox\" ><label for=\"sk-estimator-id-4\" class=\"sk-toggleable__label sk-toggleable__label-arrow\">GridSearchCV</label><div class=\"sk-toggleable__content\"><pre>GridSearchCV(estimator=DecisionTreeRegressor(random_state=0),\n",
       "             param_grid={&#x27;max_depth&#x27;: [None, 2, 4, 6, 8, 10, 12]},\n",
       "             scoring=&#x27;neg_mean_squared_error&#x27;)</pre></div></div></div><div class=\"sk-parallel\"><div class=\"sk-parallel-item\"><div class=\"sk-item\"><div class=\"sk-label-container\"><div class=\"sk-label sk-toggleable\"><input class=\"sk-toggleable__control sk-hidden--visually\" id=\"sk-estimator-id-5\" type=\"checkbox\" ><label for=\"sk-estimator-id-5\" class=\"sk-toggleable__label sk-toggleable__label-arrow\">estimator: DecisionTreeRegressor</label><div class=\"sk-toggleable__content\"><pre>DecisionTreeRegressor(random_state=0)</pre></div></div></div><div class=\"sk-serial\"><div class=\"sk-item\"><div class=\"sk-estimator sk-toggleable\"><input class=\"sk-toggleable__control sk-hidden--visually\" id=\"sk-estimator-id-6\" type=\"checkbox\" ><label for=\"sk-estimator-id-6\" class=\"sk-toggleable__label sk-toggleable__label-arrow\">DecisionTreeRegressor</label><div class=\"sk-toggleable__content\"><pre>DecisionTreeRegressor(random_state=0)</pre></div></div></div></div></div></div></div></div></div></div>"
      ],
      "text/plain": [
       "GridSearchCV(estimator=DecisionTreeRegressor(random_state=0),\n",
       "             param_grid={'max_depth': [None, 2, 4, 6, 8, 10, 12]},\n",
       "             scoring='neg_mean_squared_error')"
      ]
     },
     "execution_count": 81,
     "metadata": {},
     "output_type": "execute_result"
    }
   ],
   "source": [
    "from sklearn.model_selection import GridSearchCV\n",
    "\n",
    "max_depth = [None, 2,4,6,8,10,12]\n",
    "parameters = {\"max_depth\": max_depth}\n",
    "\n",
    "regressor1 = DecisionTreeRegressor(random_state=0)\n",
    "gs = GridSearchCV(regressor1, parameters, scoring='neg_mean_squared_error')\n",
    "gs.fit(X_train, y_train)"
   ]
  },
  {
   "cell_type": "code",
   "execution_count": 82,
   "metadata": {
    "execution": {
     "iopub.execute_input": "2023-07-25T16:39:25.899888Z",
     "iopub.status.busy": "2023-07-25T16:39:25.899335Z",
     "iopub.status.idle": "2023-07-25T16:39:25.928193Z",
     "shell.execute_reply": "2023-07-25T16:39:25.927365Z",
     "shell.execute_reply.started": "2023-07-25T16:39:25.899860Z"
    }
   },
   "outputs": [
    {
     "name": "stdout",
     "output_type": "stream",
     "text": [
      "R2 Score 0.8234397019954713\n",
      "$21,693.85\n"
     ]
    }
   ],
   "source": [
    "regressor1 = gs.best_estimator_\n",
    "\n",
    "regressor1.fit(X_train, y_train)\n",
    "y_pred = regressor1.predict(X_test)\n",
    "error = np.sqrt(mean_squared_error(y_test, y_pred))\n",
    "print(\"R2 Score\",r2_score(y_test,y_pred))\n",
    "print(\"${:,.02f}\".format(error))"
   ]
  },
  {
   "cell_type": "markdown",
   "metadata": {},
   "source": [
    "R2 Score - 0.8234397019954713\n",
    "\n",
    "Mean Squared Error - $21,693.85"
   ]
  },
  {
   "cell_type": "markdown",
   "metadata": {},
   "source": [
    "### **Prediction using the model**"
   ]
  },
  {
   "cell_type": "code",
   "execution_count": 84,
   "metadata": {
    "execution": {
     "iopub.execute_input": "2023-07-25T16:39:25.943888Z",
     "iopub.status.busy": "2023-07-25T16:39:25.943675Z",
     "iopub.status.idle": "2023-07-25T16:39:25.954879Z",
     "shell.execute_reply": "2023-07-25T16:39:25.953783Z",
     "shell.execute_reply.started": "2023-07-25T16:39:25.943869Z"
    }
   },
   "outputs": [
    {
     "data": {
      "text/plain": [
       "array([['United States of America', '25', 'In-person',\n",
       "        'Bachelor’s degree', '5']], dtype='<U24')"
      ]
     },
     "execution_count": 84,
     "metadata": {},
     "output_type": "execute_result"
    }
   ],
   "source": [
    "#Country, Age, RemoteWork,EdLevel,YearsCodePro\n",
    "Z = np.array([['United States of America',25,'In-person','Bachelor’s degree',5]])\n",
    "Z"
   ]
  },
  {
   "cell_type": "code",
   "execution_count": 85,
   "metadata": {
    "execution": {
     "iopub.execute_input": "2023-07-25T16:39:25.956998Z",
     "iopub.status.busy": "2023-07-25T16:39:25.956587Z",
     "iopub.status.idle": "2023-07-25T16:39:25.969146Z",
     "shell.execute_reply": "2023-07-25T16:39:25.968217Z",
     "shell.execute_reply.started": "2023-07-25T16:39:25.956969Z"
    }
   },
   "outputs": [
    {
     "data": {
      "text/plain": [
       "array([[1.        , 0.16666667, 0.5       , 0.        , 0.09090909]])"
      ]
     },
     "execution_count": 85,
     "metadata": {},
     "output_type": "execute_result"
    }
   ],
   "source": [
    "\n",
    "Z[:,0] = le_coun.transform(Z[:,0])\n",
    "Z[:,2] = le_remote.transform(Z[:,2])\n",
    "Z[:,3] = le_edu.transform(Z[:,3])\n",
    "Z = Z.astype(float)\n",
    "Z = mm.transform(Z)\n",
    "\n",
    "Z"
   ]
  },
  {
   "cell_type": "code",
   "execution_count": 86,
   "metadata": {
    "execution": {
     "iopub.execute_input": "2023-07-25T16:39:25.970640Z",
     "iopub.status.busy": "2023-07-25T16:39:25.970316Z",
     "iopub.status.idle": "2023-07-25T16:39:25.991168Z",
     "shell.execute_reply": "2023-07-25T16:39:25.990317Z",
     "shell.execute_reply.started": "2023-07-25T16:39:25.970611Z"
    }
   },
   "outputs": [
    {
     "data": {
      "text/plain": [
       "array([131515.16314325])"
      ]
     },
     "execution_count": 86,
     "metadata": {},
     "output_type": "execute_result"
    }
   ],
   "source": [
    "y_pred = regressor.predict(Z)\n",
    "y_pred"
   ]
  },
  {
   "cell_type": "markdown",
   "metadata": {},
   "source": [
    "### **Saving the Model**"
   ]
  },
  {
   "cell_type": "code",
   "execution_count": 87,
   "metadata": {
    "execution": {
     "iopub.execute_input": "2023-07-25T16:39:25.992600Z",
     "iopub.status.busy": "2023-07-25T16:39:25.992285Z",
     "iopub.status.idle": "2023-07-25T16:39:26.002101Z",
     "shell.execute_reply": "2023-07-25T16:39:26.001360Z",
     "shell.execute_reply.started": "2023-07-25T16:39:25.992579Z"
    }
   },
   "outputs": [],
   "source": [
    "import pickle"
   ]
  },
  {
   "cell_type": "code",
   "execution_count": 92,
   "metadata": {
    "execution": {
     "iopub.execute_input": "2023-07-25T16:53:46.839523Z",
     "iopub.status.busy": "2023-07-25T16:53:46.839177Z",
     "iopub.status.idle": "2023-07-25T16:53:46.859136Z",
     "shell.execute_reply": "2023-07-25T16:53:46.858536Z",
     "shell.execute_reply.started": "2023-07-25T16:53:46.839498Z"
    }
   },
   "outputs": [],
   "source": [
    "data = {\"model\": regressor, \"le_country\": le_coun, \"le_education\": le_edu,\"le_remote\":le_remote,\"scaler\":mm}\n",
    "with open('salary_model.pkl', 'wb') as file:\n",
    "    pickle.dump(data, file)"
   ]
  },
  {
   "cell_type": "code",
   "execution_count": 93,
   "metadata": {
    "execution": {
     "iopub.execute_input": "2023-07-25T16:54:22.367761Z",
     "iopub.status.busy": "2023-07-25T16:54:22.367155Z",
     "iopub.status.idle": "2023-07-25T16:54:22.379292Z",
     "shell.execute_reply": "2023-07-25T16:54:22.378625Z",
     "shell.execute_reply.started": "2023-07-25T16:54:22.367730Z"
    }
   },
   "outputs": [],
   "source": [
    "with open('salary_model.pkl', 'rb') as file:\n",
    "    data = pickle.load(file)\n",
    "\n",
    "regressor_loaded = data[\"model\"]\n",
    "le_coun = data[\"le_country\"]\n",
    "le_edu = data[\"le_education\"]\n",
    "le_remote = data[\"le_remote\"]\n",
    "mm = data[\"scaler\"]"
   ]
  },
  {
   "cell_type": "code",
   "execution_count": 95,
   "metadata": {
    "execution": {
     "iopub.execute_input": "2023-07-25T16:55:49.096904Z",
     "iopub.status.busy": "2023-07-25T16:55:49.096599Z",
     "iopub.status.idle": "2023-07-25T16:55:49.103836Z",
     "shell.execute_reply": "2023-07-25T16:55:49.102753Z",
     "shell.execute_reply.started": "2023-07-25T16:55:49.096881Z"
    }
   },
   "outputs": [
    {
     "data": {
      "text/plain": [
       "array([['United States of America', '25', 'In-person',\n",
       "        'Bachelor’s degree', '5']], dtype='<U24')"
      ]
     },
     "execution_count": 95,
     "metadata": {},
     "output_type": "execute_result"
    }
   ],
   "source": [
    "Y = np.array([['United States of America',25,'In-person','Bachelor’s degree',5]])\n",
    "Y"
   ]
  },
  {
   "cell_type": "code",
   "execution_count": 96,
   "metadata": {
    "execution": {
     "iopub.execute_input": "2023-07-25T16:57:28.863245Z",
     "iopub.status.busy": "2023-07-25T16:57:28.862913Z",
     "iopub.status.idle": "2023-07-25T16:57:28.869288Z",
     "shell.execute_reply": "2023-07-25T16:57:28.868341Z",
     "shell.execute_reply.started": "2023-07-25T16:57:28.863217Z"
    }
   },
   "outputs": [],
   "source": [
    "Y[:,0] = le_coun.transform(Y[:,0])\n",
    "Y[:,2] = le_remote.transform(Y[:,2])\n",
    "Y[:,3] = le_edu.transform(Y[:,3])\n",
    "Y = Y.astype(float)\n",
    "Y = mm.transform(Y)"
   ]
  },
  {
   "cell_type": "code",
   "execution_count": 97,
   "metadata": {
    "execution": {
     "iopub.execute_input": "2023-07-25T16:57:33.074370Z",
     "iopub.status.busy": "2023-07-25T16:57:33.074054Z",
     "iopub.status.idle": "2023-07-25T16:57:33.092976Z",
     "shell.execute_reply": "2023-07-25T16:57:33.091906Z",
     "shell.execute_reply.started": "2023-07-25T16:57:33.074345Z"
    }
   },
   "outputs": [
    {
     "data": {
      "text/plain": [
       "array([131515.16314325])"
      ]
     },
     "execution_count": 97,
     "metadata": {},
     "output_type": "execute_result"
    }
   ],
   "source": [
    "y_pred = regressor_loaded.predict(Y)\n",
    "y_pred"
   ]
  },
  {
   "cell_type": "markdown",
   "metadata": {},
   "source": [
    "Now we can use this saved model for deployment."
   ]
  }
 ],
 "metadata": {
  "kernelspec": {
   "display_name": "Python 3 (ipykernel)",
   "language": "python",
   "name": "python3"
  },
  "language_info": {
   "codemirror_mode": {
    "name": "ipython",
    "version": 3
   },
   "file_extension": ".py",
   "mimetype": "text/x-python",
   "name": "python",
   "nbconvert_exporter": "python",
   "pygments_lexer": "ipython3",
   "version": "3.10.9"
  }
 },
 "nbformat": 4,
 "nbformat_minor": 4
}
